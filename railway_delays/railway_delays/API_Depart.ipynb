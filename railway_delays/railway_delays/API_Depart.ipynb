{
 "cells": [
  {
   "attachments": {},
   "cell_type": "markdown",
   "metadata": {},
   "source": [
    "Ce script permet d'afficher les trains au départ de n'importe quelle gare française.\n",
    "\n",
    "La liste des noms des gares française se trouve dans le fichier Excel **liste_gares.xlsx**"
   ]
  },
  {
   "attachments": {},
   "cell_type": "markdown",
   "metadata": {},
   "source": [
    "# Code"
   ]
  },
  {
   "attachments": {},
   "cell_type": "markdown",
   "metadata": {},
   "source": [
    "## Import des Modules"
   ]
  },
  {
   "cell_type": "code",
   "execution_count": 132,
   "metadata": {},
   "outputs": [],
   "source": [
    "import pandas as pd\n",
    "import requests\n",
    "import json\n",
    "import datetime"
   ]
  },
  {
   "attachments": {},
   "cell_type": "markdown",
   "metadata": {},
   "source": [
    "## Choix de la gare et du nombre de trains affichés"
   ]
  },
  {
   "cell_type": "code",
   "execution_count": 133,
   "metadata": {},
   "outputs": [],
   "source": [
    "gare = \"Bordeaux Saint-Jean\"\n",
    "\n",
    "# Max 250\n",
    "nb_trains = 50"
   ]
  },
  {
   "attachments": {},
   "cell_type": "markdown",
   "metadata": {},
   "source": [
    "Mise en varaible du token de connexion à l'API SNCF V1"
   ]
  },
  {
   "cell_type": "code",
   "execution_count": 134,
   "metadata": {},
   "outputs": [],
   "source": [
    "token = 'e7b7fedd-71d0-48c6-8cc7-749e22ba8e80'"
   ]
  },
  {
   "attachments": {},
   "cell_type": "markdown",
   "metadata": {},
   "source": [
    "## Création du dictionnaire des gares françaises"
   ]
  },
  {
   "attachments": {},
   "cell_type": "markdown",
   "metadata": {},
   "source": [
    "Requête à l'API SNCF (pas besoin de token ici) afin de récupérer la liste des gares françaises et l'identifiant associé"
   ]
  },
  {
   "cell_type": "code",
   "execution_count": 135,
   "metadata": {},
   "outputs": [
    {
     "name": "stdout",
     "output_type": "stream",
     "text": [
      "Nombre de gares : 3220\n"
     ]
    }
   ],
   "source": [
    "req_gare = requests.get(\"https://ressources.data.sncf.com/api/records/1.0/search/?dataset=referentiel-gares-voyageurs&q=&rows=3220&sort=gare_alias_libelle_noncontraint&facet=departement_libellemin&facet=segmentdrg_libelle&facet=gare_agencegc_libelle&facet=gare_regionsncf_libelle&facet=gare_ug_libelle\")\n",
    "doc_gare = json.loads(req_gare.text)\n",
    "row_gare = len(doc_gare['records'])\n",
    "print(f'Nombre de gares : {row_gare}')"
   ]
  },
  {
   "attachments": {},
   "cell_type": "markdown",
   "metadata": {},
   "source": [
    "On ne garde que le nom de la gare et l'identifiant"
   ]
  },
  {
   "cell_type": "code",
   "execution_count": 136,
   "metadata": {},
   "outputs": [],
   "source": [
    "df_dic = pd.DataFrame(doc_gare['records'])\n",
    "df_dic = pd.DataFrame(list(df_dic['fields']))\n",
    "df_dic = df_dic[['alias_libelle_noncontraint','uic_code']]"
   ]
  },
  {
   "attachments": {},
   "cell_type": "markdown",
   "metadata": {},
   "source": [
    "On retire les `0` inutiles au début de l'identifiant de gare"
   ]
  },
  {
   "cell_type": "code",
   "execution_count": 137,
   "metadata": {},
   "outputs": [],
   "source": [
    "def removezero(string):\n",
    "    return 'SNCF:' + str(string)[2:]\n",
    "\n",
    "df_dic['uic_code'] = df_dic['uic_code'].apply(removezero)"
   ]
  },
  {
   "attachments": {},
   "cell_type": "markdown",
   "metadata": {},
   "source": [
    "On convertit le dataframe en dictionnaire python"
   ]
  },
  {
   "cell_type": "code",
   "execution_count": 138,
   "metadata": {},
   "outputs": [
    {
     "name": "stderr",
     "output_type": "stream",
     "text": [
      "/var/folders/bg/vbvjjnmj0hv9wmb92ngxcq9m0000gn/T/ipykernel_6163/3118890846.py:2: UserWarning: DataFrame columns are not unique, some columns will be omitted.\n",
      "  dic_gare = df_dic.set_index('alias_libelle_noncontraint').T.to_dict('list')\n"
     ]
    }
   ],
   "source": [
    "df_dic.convert_dtypes()\n",
    "dic_gare = df_dic.set_index('alias_libelle_noncontraint').T.to_dict('list')"
   ]
  },
  {
   "attachments": {},
   "cell_type": "markdown",
   "metadata": {},
   "source": [
    "Pour des raisons de temps on ne vas garder un dictionnaire de seulement 45 gares (Sinon la requête sur toutes les gares prendrait 2 heures)\n",
    "On vas prendre donc le csv des gare que l'on vas regarder "
   ]
  },
  {
   "attachments": {},
   "cell_type": "markdown",
   "metadata": {},
   "source": [
    "## Obtention des trains au départ en gare"
   ]
  },
  {
   "attachments": {},
   "cell_type": "markdown",
   "metadata": {},
   "source": [
    "Requête à l'API SNCF afin de récupérer la liste des trains au départ en gare"
   ]
  },
  {
   "cell_type": "code",
   "execution_count": 139,
   "metadata": {},
   "outputs": [],
   "source": [
    "link = 'https://api.sncf.com/v1/coverage/sncf/stop_areas/stop_area:' + dic_gare[gare][0] + '/departures?count=' + str(nb_trains)\n",
    "req = requests.get(link,auth=(token, ''))\n",
    "#print(link)"
   ]
  },
  {
   "cell_type": "code",
   "execution_count": 140,
   "metadata": {},
   "outputs": [
    {
     "name": "stdout",
     "output_type": "stream",
     "text": [
      "Nombre de trains : 47\n"
     ]
    }
   ],
   "source": [
    "doc = json.loads(req.text)\n",
    "row = len(doc['departures'])\n",
    "print(f'Nombre de trains : {row}')"
   ]
  },
  {
   "attachments": {},
   "cell_type": "markdown",
   "metadata": {},
   "source": [
    "On découpe le résultat de la requête en 3 dataframes distincts :\n",
    "\n",
    "- **df_gare** qui donne les informations sur la direction du train, son type (TER, TGV, etc.) et son numéro\n",
    "\n",
    "- **df_heure** qui donne des informations sur un éventuel retard du train\n",
    "\n",
    "- **df_id** qui contient l'identifiant du voyage, ce qui nous servira à récupérer d'autres données plus tard"
   ]
  },
  {
   "cell_type": "code",
   "execution_count": 141,
   "metadata": {},
   "outputs": [],
   "source": [
    "df = pd.DataFrame(doc['departures'])\n",
    "df_gare = pd.DataFrame(list(df['display_informations']))\n",
    "df_heure = pd.DataFrame(list(df['stop_date_time']))\n",
    "df_id = pd.DataFrame(list(df['links']))\n",
    "df_id = pd.DataFrame(list(df_id[1]))"
   ]
  },
  {
   "attachments": {},
   "cell_type": "markdown",
   "metadata": {},
   "source": [
    "On récupère le jour de départ du train"
   ]
  },
  {
   "cell_type": "code",
   "execution_count": 142,
   "metadata": {},
   "outputs": [],
   "source": [
    "def get_day(string):\n",
    "    string = string[:8]\n",
    "    return string[6:8]+'-'+string[4:6]+'-'+string[0:4]\n",
    "\n",
    "df_heure['jour'] = df_heure['departure_date_time'].apply(get_day)"
   ]
  },
  {
   "attachments": {},
   "cell_type": "markdown",
   "metadata": {},
   "source": [
    "On supprime les RER et les Transiliens"
   ]
  },
  {
   "cell_type": "code",
   "execution_count": 143,
   "metadata": {},
   "outputs": [],
   "source": [
    "supr = df_gare.loc[df_gare['network'] == 'RER'].index\n",
    "df_gare = df_gare.drop(supr)\n",
    "df_heure = df_heure.drop(supr)"
   ]
  },
  {
   "cell_type": "code",
   "execution_count": 144,
   "metadata": {},
   "outputs": [],
   "source": [
    "supr = df_gare.loc[df_gare['network'] == 'TRANSILIEN'].index\n",
    "df_gare = df_gare.drop(supr)\n",
    "df_heure = df_heure.drop(supr)"
   ]
  },
  {
   "attachments": {},
   "cell_type": "markdown",
   "metadata": {},
   "source": [
    "On supprime les trains annulés ou remplacés"
   ]
  },
  {
   "cell_type": "code",
   "execution_count": 146,
   "metadata": {},
   "outputs": [],
   "source": [
    "supr = df_gare.loc[df_heure['base_departure_date_time'].isnull()].index\n",
    "df_gare = df_gare.drop(supr)\n",
    "df_heure = df_heure.drop(supr)"
   ]
  },
  {
   "attachments": {},
   "cell_type": "markdown",
   "metadata": {},
   "source": [
    "On récupère l'heure de départ prévue et réelle du train"
   ]
  },
  {
   "cell_type": "code",
   "execution_count": 147,
   "metadata": {},
   "outputs": [],
   "source": [
    "def del_day(string):\n",
    "    return str(string)[9:]\n",
    "\n",
    "df_heure['departure_date_time'] = df_heure['departure_date_time'].apply(del_day)\n",
    "df_heure['base_departure_date_time'] = df_heure['base_departure_date_time'].apply(del_day)"
   ]
  },
  {
   "attachments": {},
   "cell_type": "markdown",
   "metadata": {},
   "source": [
    "On calcule le retard du train et on le convertit au format heure de `datetime`"
   ]
  },
  {
   "cell_type": "code",
   "execution_count": 148,
   "metadata": {},
   "outputs": [],
   "source": [
    "def conv_min(string):\n",
    "    return int(string[0:2])*60 + int(string[2:4])\n",
    "\n",
    "df_heure['retard'] = df_heure['departure_date_time'].apply(conv_min) - df_heure['base_departure_date_time'].apply(conv_min)"
   ]
  },
  {
   "cell_type": "code",
   "execution_count": 149,
   "metadata": {},
   "outputs": [],
   "source": [
    "def str_tps(str):\n",
    "    return datetime.datetime.strptime(str, '%H%M%S').time()\n",
    "\n",
    "df_heure['heure'] = df_heure['departure_date_time'].apply(str_tps)\n",
    "df_heure['old_heure'] = df_heure['base_departure_date_time'].apply(str_tps)"
   ]
  },
  {
   "attachments": {},
   "cell_type": "markdown",
   "metadata": {},
   "source": [
    "On retire le nom de la ville ou se situe la gare pour plus de lisibilité.\n",
    "\n",
    "_Exemple :_ `Paris Gare de Lyon (Paris)` devient `Paris Gare de Lyon`"
   ]
  },
  {
   "cell_type": "code",
   "execution_count": 150,
   "metadata": {},
   "outputs": [],
   "source": [
    "def del_par(string):\n",
    "    index = string.find(\"(\")\n",
    "    return string[:index]\n",
    "\n",
    "df_gare['direction'] = df_gare['direction'].apply(del_par)"
   ]
  },
  {
   "attachments": {},
   "cell_type": "markdown",
   "metadata": {},
   "source": [
    "On renome les colonnes du dataframe **df_gare** et on y ajoute :\n",
    "\n",
    "- Le jour de départ\n",
    "\n",
    "- L'heure de départ réelle\n",
    "\n",
    "- L'heure de départ prévue\n",
    "\n",
    "- Le retard au départ en minutes du train\n",
    "\n",
    "- L'identifiant du voyage"
   ]
  },
  {
   "cell_type": "code",
   "execution_count": 151,
   "metadata": {},
   "outputs": [],
   "source": [
    "if len(df_gare) != 0:\n",
    "    df_gare = df_gare[['direction','network','trip_short_name']]\n",
    "    df_gare.rename(columns = {'direction':'Destination'}, inplace = True)\n",
    "    df_gare.rename(columns = {'network':'Train'}, inplace = True)\n",
    "    df_gare.rename(columns = {'trip_short_name':'Numéro'}, inplace = True)\n",
    "\n",
    "    df_gare['Jour'] = df_heure['jour']\n",
    "    df_gare['Départ (réel)'] = df_heure['heure']\n",
    "    df_gare['Départ (prévu)'] = df_heure['old_heure']\n",
    "    df_gare['Retard (min)'] = df_heure['retard']\n",
    "    df_gare['id'] = df_id['id']"
   ]
  },
  {
   "attachments": {},
   "cell_type": "markdown",
   "metadata": {},
   "source": [
    "## Obtention des arrêts et de la cause de retard du train"
   ]
  },
  {
   "attachments": {},
   "cell_type": "markdown",
   "metadata": {},
   "source": [
    "Création d'une fonction permettant de récupérer uniquement le nom de la gare dans le json et de supprimer les données superflues"
   ]
  },
  {
   "cell_type": "code",
   "execution_count": 152,
   "metadata": {},
   "outputs": [],
   "source": [
    "def get_name(string):\n",
    "    string = string[10:]\n",
    "    index_fin = string.find(\"', 'links'\")\n",
    "    return string[:index_fin]"
   ]
  },
  {
   "attachments": {},
   "cell_type": "markdown",
   "metadata": {},
   "source": [
    "Création d'une fonction permettant de récupérer uniquement l'id de la gare dans le json et de supprimer les données superflues"
   ]
  },
  {
   "cell_type": "code",
   "execution_count": 153,
   "metadata": {},
   "outputs": [],
   "source": [
    "def get_id(string):\n",
    "    index_deb = string.find(\"'id': 'stop_point:\")\n",
    "    string = string[index_deb+18:]\n",
    "    return string[:13]"
   ]
  },
  {
   "attachments": {},
   "cell_type": "markdown",
   "metadata": {},
   "source": [
    "Pour chaque train, on effectue un requête grâce à l'**id** du voyage afin de récupérer les arrêts et l'éventuelle cause du retard de celui-ci"
   ]
  },
  {
   "cell_type": "code",
   "execution_count": 154,
   "metadata": {},
   "outputs": [],
   "source": [
    "provenance = []\n",
    "arrets = []\n",
    "causes = []\n",
    "\n",
    "for index, row in df_gare.iterrows():\n",
    "    id = row['id']\n",
    "    \n",
    "    # Il faut retirer la partie 'RealTime' de l'id pour faire la requête\n",
    "    if 'RealTime' in id:\n",
    "        index_id = id.index(\"RealTime\")\n",
    "        id = id[:index_id-1]\n",
    "\n",
    "    # On effectue la requête\n",
    "    link_voyage = 'https://api.sncf.com/v1/coverage/sncf/vehicle_journeys/' + id\n",
    "    req_arret = requests.get(link_voyage ,auth=(token, ''))\n",
    "    doc_voyage = json.loads(req_arret.text)\n",
    "\n",
    "    # On récupère la liste des arrêts du train\n",
    "    df_arret = pd.DataFrame(doc_voyage['vehicle_journeys'])\n",
    "    df_arret = pd.DataFrame(list(df_arret['stop_times']))\n",
    "    df_arret = df_arret.T\n",
    "    df_arret = pd.DataFrame(list(df_arret[0]))\n",
    "    df_arret['stop_point_id'] = df_arret['stop_point'].astype('str').apply(get_id)\n",
    "    df_arret['stop_point'] = df_arret['stop_point'].astype('str').apply(get_name)\n",
    "    provenance.append(df_arret['stop_point'][0])\n",
    "\n",
    "    # Si le train est en retard, on récupère la cause du retard\n",
    "    # On renvoie \"Retard non expliqué\" si la SNCF ne fournit pas plus d'informations sur le retard\n",
    "    if row['Retard (min)'] != 0:\n",
    "        df_retard = pd.DataFrame(doc_voyage['disruptions'])\n",
    "        if 'messages' in df_retard:\n",
    "            df_retard = pd.DataFrame(list(df_retard['messages'][0]))\n",
    "            causes.append(df_retard.iloc[0]['text'])\n",
    "        else:\n",
    "            causes.append(\"Retard non expliqué\")\n",
    "    else:\n",
    "        causes.append(\"\")\n",
    "\n",
    "    # On retire les gares que le trains a déjà traversées avant d'arriver à la gare choisie\n",
    "    liste_arrets = [list(df_arret['stop_point']),list(df_arret['stop_point_id'])]\n",
    "    index_gare = liste_arrets[1].index(dic_gare[gare][0])\n",
    "    \n",
    "    # On ajoute donc que les gares pas encore traversées\n",
    "    liste_arrets = liste_arrets[0][index_gare+1:]\n",
    "    arrets.append(liste_arrets)"
   ]
  },
  {
   "attachments": {},
   "cell_type": "markdown",
   "metadata": {},
   "source": [
    "On ajoute la provenance du train, la cause du retard ainsi que les arrêts au dataframe **df_gare**.\n",
    "\n",
    "On retire aussi l'id du voyage qui ne sert plus à rien"
   ]
  },
  {
   "cell_type": "code",
   "execution_count": 155,
   "metadata": {},
   "outputs": [],
   "source": [
    "df_gare['Cause'] = causes\n",
    "df_gare['Arrêts'] = arrets\n",
    "df_gare.insert(0, 'Provenance', provenance)\n",
    "if len(df_gare) != 0:\n",
    "    df_gare = df_gare.drop(['id'], axis=1)"
   ]
  },
  {
   "attachments": {},
   "cell_type": "markdown",
   "metadata": {},
   "source": [
    "On affiche le dataframe final"
   ]
  },
  {
   "cell_type": "code",
   "execution_count": 156,
   "metadata": {},
   "outputs": [
    {
     "data": {
      "text/html": [
       "<div>\n",
       "<style scoped>\n",
       "    .dataframe tbody tr th:only-of-type {\n",
       "        vertical-align: middle;\n",
       "    }\n",
       "\n",
       "    .dataframe tbody tr th {\n",
       "        vertical-align: top;\n",
       "    }\n",
       "\n",
       "    .dataframe thead th {\n",
       "        text-align: right;\n",
       "    }\n",
       "</style>\n",
       "<table border=\"1\" class=\"dataframe\">\n",
       "  <thead>\n",
       "    <tr style=\"text-align: right;\">\n",
       "      <th></th>\n",
       "      <th>Provenance</th>\n",
       "      <th>Destination</th>\n",
       "      <th>Train</th>\n",
       "      <th>Numéro</th>\n",
       "      <th>Jour</th>\n",
       "      <th>Départ (réel)</th>\n",
       "      <th>Départ (prévu)</th>\n",
       "      <th>Retard (min)</th>\n",
       "      <th>Cause</th>\n",
       "      <th>Arrêts</th>\n",
       "    </tr>\n",
       "  </thead>\n",
       "  <tbody>\n",
       "    <tr>\n",
       "      <th>0</th>\n",
       "      <td>Bordeaux Saint-Jean</td>\n",
       "      <td>Agen</td>\n",
       "      <td>TER NA</td>\n",
       "      <td>866831</td>\n",
       "      <td>09-03-2023</td>\n",
       "      <td>15:33:00</td>\n",
       "      <td>15:33:00</td>\n",
       "      <td>0</td>\n",
       "      <td></td>\n",
       "      <td>[Beautiran, Cérons, Langon, La Réole, Marmande...</td>\n",
       "    </tr>\n",
       "    <tr>\n",
       "      <th>1</th>\n",
       "      <td>Hendaye</td>\n",
       "      <td>Paris - Montparnasse - Hall 1 &amp; 2</td>\n",
       "      <td>TGV INOUI</td>\n",
       "      <td>8540</td>\n",
       "      <td>09-03-2023</td>\n",
       "      <td>15:46:00</td>\n",
       "      <td>15:46:00</td>\n",
       "      <td>0</td>\n",
       "      <td></td>\n",
       "      <td>[Paris - Montparnasse - Hall 1 &amp; 2]</td>\n",
       "    </tr>\n",
       "    <tr>\n",
       "      <th>2</th>\n",
       "      <td>Bordeaux Saint-Jean</td>\n",
       "      <td>Arcachon</td>\n",
       "      <td>TER NA</td>\n",
       "      <td>866341</td>\n",
       "      <td>09-03-2023</td>\n",
       "      <td>16:04:00</td>\n",
       "      <td>16:04:00</td>\n",
       "      <td>0</td>\n",
       "      <td></td>\n",
       "      <td>[Pessac, Pessac Alouette, Gazinet Cestas, Marc...</td>\n",
       "    </tr>\n",
       "    <tr>\n",
       "      <th>6</th>\n",
       "      <td>Bordeaux Saint-Jean</td>\n",
       "      <td>Paris - Montparnasse - Hall 1 &amp; 2</td>\n",
       "      <td>TGV INOUI</td>\n",
       "      <td>8488</td>\n",
       "      <td>09-03-2023</td>\n",
       "      <td>16:49:00</td>\n",
       "      <td>16:19:00</td>\n",
       "      <td>30</td>\n",
       "      <td>Régulation du trafic</td>\n",
       "      <td>[Libourne, Angoulême, Poitiers, Châtellerault,...</td>\n",
       "    </tr>\n",
       "    <tr>\n",
       "      <th>10</th>\n",
       "      <td>Bordeaux Saint-Jean</td>\n",
       "      <td>Paris - Montparnasse - Hall 1 &amp; 2</td>\n",
       "      <td>TGV INOUI</td>\n",
       "      <td>8418</td>\n",
       "      <td>09-03-2023</td>\n",
       "      <td>17:08:00</td>\n",
       "      <td>17:08:00</td>\n",
       "      <td>0</td>\n",
       "      <td></td>\n",
       "      <td>[Massy TGV, Paris - Montparnasse - Hall 1 &amp; 2]</td>\n",
       "    </tr>\n",
       "    <tr>\n",
       "      <th>16</th>\n",
       "      <td>Bordeaux Saint-Jean</td>\n",
       "      <td>Paris - Montparnasse - Hall 1 &amp; 2</td>\n",
       "      <td>TGV INOUI</td>\n",
       "      <td>8420</td>\n",
       "      <td>09-03-2023</td>\n",
       "      <td>17:46:00</td>\n",
       "      <td>17:46:00</td>\n",
       "      <td>0</td>\n",
       "      <td></td>\n",
       "      <td>[Paris - Montparnasse - Hall 1 &amp; 2]</td>\n",
       "    </tr>\n",
       "    <tr>\n",
       "      <th>20</th>\n",
       "      <td>Bordeaux Saint-Jean</td>\n",
       "      <td>Arcachon</td>\n",
       "      <td>TER NA</td>\n",
       "      <td>866351</td>\n",
       "      <td>09-03-2023</td>\n",
       "      <td>18:35:00</td>\n",
       "      <td>18:35:00</td>\n",
       "      <td>0</td>\n",
       "      <td></td>\n",
       "      <td>[Pessac, Pessac Alouette, Gazinet Cestas, Marc...</td>\n",
       "    </tr>\n",
       "    <tr>\n",
       "      <th>26</th>\n",
       "      <td>Libourne</td>\n",
       "      <td>Arcachon</td>\n",
       "      <td>TER NA</td>\n",
       "      <td>866203</td>\n",
       "      <td>10-03-2023</td>\n",
       "      <td>06:35:00</td>\n",
       "      <td>06:35:00</td>\n",
       "      <td>0</td>\n",
       "      <td></td>\n",
       "      <td>[Pessac, Pessac Alouette, Gazinet Cestas, Marc...</td>\n",
       "    </tr>\n",
       "    <tr>\n",
       "      <th>27</th>\n",
       "      <td>Bordeaux Saint-Jean</td>\n",
       "      <td>Sarlat</td>\n",
       "      <td>TER NA</td>\n",
       "      <td>865704</td>\n",
       "      <td>10-03-2023</td>\n",
       "      <td>07:41:00</td>\n",
       "      <td>07:41:00</td>\n",
       "      <td>0</td>\n",
       "      <td></td>\n",
       "      <td>[Cenon, Libourne, Saint-Émilion, Castillon, Vé...</td>\n",
       "    </tr>\n",
       "    <tr>\n",
       "      <th>28</th>\n",
       "      <td>Bordeaux Saint-Jean</td>\n",
       "      <td>Paris - Montparnasse - Hall 1 &amp; 2</td>\n",
       "      <td>TGV INOUI</td>\n",
       "      <td>8404</td>\n",
       "      <td>10-03-2023</td>\n",
       "      <td>07:45:00</td>\n",
       "      <td>07:45:00</td>\n",
       "      <td>0</td>\n",
       "      <td></td>\n",
       "      <td>[Massy TGV, Paris - Montparnasse - Hall 1 &amp; 2]</td>\n",
       "    </tr>\n",
       "    <tr>\n",
       "      <th>29</th>\n",
       "      <td>Arcachon</td>\n",
       "      <td>Libourne</td>\n",
       "      <td>TER NA</td>\n",
       "      <td>866208</td>\n",
       "      <td>10-03-2023</td>\n",
       "      <td>08:02:00</td>\n",
       "      <td>08:02:00</td>\n",
       "      <td>0</td>\n",
       "      <td></td>\n",
       "      <td>[Cenon, Bassens, La Gorp, Saint-Loubès, Saint-...</td>\n",
       "    </tr>\n",
       "    <tr>\n",
       "      <th>30</th>\n",
       "      <td>Libourne</td>\n",
       "      <td>Arcachon</td>\n",
       "      <td>TER NA</td>\n",
       "      <td>866209</td>\n",
       "      <td>10-03-2023</td>\n",
       "      <td>08:04:00</td>\n",
       "      <td>08:04:00</td>\n",
       "      <td>0</td>\n",
       "      <td></td>\n",
       "      <td>[Pessac, Pessac Alouette, Gazinet Cestas, Marc...</td>\n",
       "    </tr>\n",
       "    <tr>\n",
       "      <th>32</th>\n",
       "      <td>Toulouse Matabiau</td>\n",
       "      <td>Paris - Montparnasse - Hall 1 &amp; 2</td>\n",
       "      <td>TGV INOUI</td>\n",
       "      <td>8502</td>\n",
       "      <td>10-03-2023</td>\n",
       "      <td>08:46:00</td>\n",
       "      <td>08:46:00</td>\n",
       "      <td>0</td>\n",
       "      <td></td>\n",
       "      <td>[Paris - Montparnasse - Hall 1 &amp; 2]</td>\n",
       "    </tr>\n",
       "    <tr>\n",
       "      <th>33</th>\n",
       "      <td>Bordeaux Saint-Jean</td>\n",
       "      <td>Paris - Montparnasse - Hall 1 &amp; 2</td>\n",
       "      <td>OUIGO</td>\n",
       "      <td>7652</td>\n",
       "      <td>10-03-2023</td>\n",
       "      <td>08:50:00</td>\n",
       "      <td>08:50:00</td>\n",
       "      <td>0</td>\n",
       "      <td></td>\n",
       "      <td>[Angoulême, Poitiers, Paris - Montparnasse - H...</td>\n",
       "    </tr>\n",
       "    <tr>\n",
       "      <th>34</th>\n",
       "      <td>Paris - Montparnasse - Hall 1 &amp; 2</td>\n",
       "      <td>Hendaye</td>\n",
       "      <td>TGV INOUI</td>\n",
       "      <td>8531</td>\n",
       "      <td>10-03-2023</td>\n",
       "      <td>09:21:00</td>\n",
       "      <td>09:21:00</td>\n",
       "      <td>0</td>\n",
       "      <td></td>\n",
       "      <td>[Dax, Bayonne, Biarritz, Saint-Jean-de-Luz - C...</td>\n",
       "    </tr>\n",
       "    <tr>\n",
       "      <th>35</th>\n",
       "      <td>Hendaye</td>\n",
       "      <td>Paris - Montparnasse - Hall 1 &amp; 2</td>\n",
       "      <td>TGV INOUI</td>\n",
       "      <td>8530</td>\n",
       "      <td>10-03-2023</td>\n",
       "      <td>09:46:30</td>\n",
       "      <td>09:46:30</td>\n",
       "      <td>0</td>\n",
       "      <td></td>\n",
       "      <td>[Paris - Montparnasse - Hall 1 &amp; 2]</td>\n",
       "    </tr>\n",
       "    <tr>\n",
       "      <th>36</th>\n",
       "      <td>Tarbes</td>\n",
       "      <td>Paris - Montparnasse - Hall 1 &amp; 2</td>\n",
       "      <td>TGV INOUI</td>\n",
       "      <td>8560</td>\n",
       "      <td>10-03-2023</td>\n",
       "      <td>09:46:30</td>\n",
       "      <td>09:46:30</td>\n",
       "      <td>0</td>\n",
       "      <td></td>\n",
       "      <td>[Paris - Montparnasse - Hall 1 &amp; 2]</td>\n",
       "    </tr>\n",
       "    <tr>\n",
       "      <th>37</th>\n",
       "      <td>Bordeaux Saint-Jean</td>\n",
       "      <td>Agen</td>\n",
       "      <td>TER NA</td>\n",
       "      <td>405759</td>\n",
       "      <td>10-03-2023</td>\n",
       "      <td>10:30:00</td>\n",
       "      <td>10:30:00</td>\n",
       "      <td>0</td>\n",
       "      <td></td>\n",
       "      <td>[Langon, La Réole, Marmande, Tonneins, Aiguill...</td>\n",
       "    </tr>\n",
       "    <tr>\n",
       "      <th>38</th>\n",
       "      <td>Bordeaux Saint-Jean</td>\n",
       "      <td>Paris - Montparnasse - Hall 1 &amp; 2</td>\n",
       "      <td>OUIGO</td>\n",
       "      <td>7656</td>\n",
       "      <td>10-03-2023</td>\n",
       "      <td>12:21:00</td>\n",
       "      <td>12:21:00</td>\n",
       "      <td>0</td>\n",
       "      <td></td>\n",
       "      <td>[Saint-Pierre-des-Corps, Paris - Montparnasse ...</td>\n",
       "    </tr>\n",
       "    <tr>\n",
       "      <th>39</th>\n",
       "      <td>Bordeaux Saint-Jean</td>\n",
       "      <td>Marseille - Saint-Charles</td>\n",
       "      <td>Intercités</td>\n",
       "      <td>4661</td>\n",
       "      <td>10-03-2023</td>\n",
       "      <td>12:28:00</td>\n",
       "      <td>12:28:00</td>\n",
       "      <td>0</td>\n",
       "      <td></td>\n",
       "      <td>[Agen, Montauban Ville Bourbon, Toulouse Matab...</td>\n",
       "    </tr>\n",
       "    <tr>\n",
       "      <th>40</th>\n",
       "      <td>Bordeaux Saint-Jean</td>\n",
       "      <td>Paris - Montparnasse - Hall 1 &amp; 2</td>\n",
       "      <td>TGV INOUI</td>\n",
       "      <td>8508</td>\n",
       "      <td>10-03-2023</td>\n",
       "      <td>12:46:00</td>\n",
       "      <td>12:46:00</td>\n",
       "      <td>0</td>\n",
       "      <td></td>\n",
       "      <td>[Paris - Montparnasse - Hall 1 &amp; 2]</td>\n",
       "    </tr>\n",
       "    <tr>\n",
       "      <th>41</th>\n",
       "      <td>Paris - Montparnasse - Hall 1 &amp; 2</td>\n",
       "      <td>Toulouse Matabiau</td>\n",
       "      <td>TGV INOUI</td>\n",
       "      <td>8505</td>\n",
       "      <td>10-03-2023</td>\n",
       "      <td>13:20:00</td>\n",
       "      <td>13:20:00</td>\n",
       "      <td>0</td>\n",
       "      <td></td>\n",
       "      <td>[Agen, Montauban Ville Bourbon, Toulouse Matab...</td>\n",
       "    </tr>\n",
       "    <tr>\n",
       "      <th>42</th>\n",
       "      <td>Bordeaux Saint-Jean</td>\n",
       "      <td>Nantes</td>\n",
       "      <td>Intercités</td>\n",
       "      <td>3856</td>\n",
       "      <td>10-03-2023</td>\n",
       "      <td>13:53:00</td>\n",
       "      <td>13:53:00</td>\n",
       "      <td>0</td>\n",
       "      <td></td>\n",
       "      <td>[Jonzac, Saintes, Rochefort, La Rochelle, Luço...</td>\n",
       "    </tr>\n",
       "    <tr>\n",
       "      <th>43</th>\n",
       "      <td>Paris - Montparnasse - Hall 1 &amp; 2</td>\n",
       "      <td>Hendaye</td>\n",
       "      <td>TGV INOUI</td>\n",
       "      <td>8541</td>\n",
       "      <td>10-03-2023</td>\n",
       "      <td>14:21:00</td>\n",
       "      <td>14:21:00</td>\n",
       "      <td>0</td>\n",
       "      <td></td>\n",
       "      <td>[Dax, Bayonne, Biarritz, Saint-Jean-de-Luz - C...</td>\n",
       "    </tr>\n",
       "    <tr>\n",
       "      <th>44</th>\n",
       "      <td>Bordeaux Saint-Jean</td>\n",
       "      <td>Marseille - Saint-Charles</td>\n",
       "      <td>Intercités</td>\n",
       "      <td>4663</td>\n",
       "      <td>10-03-2023</td>\n",
       "      <td>14:26:00</td>\n",
       "      <td>14:26:00</td>\n",
       "      <td>0</td>\n",
       "      <td></td>\n",
       "      <td>[Agen, Montauban Ville Bourbon, Toulouse Matab...</td>\n",
       "    </tr>\n",
       "    <tr>\n",
       "      <th>45</th>\n",
       "      <td>Toulouse Matabiau</td>\n",
       "      <td>Paris - Montparnasse - Hall 1 &amp; 2</td>\n",
       "      <td>TGV INOUI</td>\n",
       "      <td>8512</td>\n",
       "      <td>10-03-2023</td>\n",
       "      <td>14:46:00</td>\n",
       "      <td>14:46:00</td>\n",
       "      <td>0</td>\n",
       "      <td></td>\n",
       "      <td>[Angoulême, Paris - Montparnasse - Hall 1 &amp; 2]</td>\n",
       "    </tr>\n",
       "    <tr>\n",
       "      <th>46</th>\n",
       "      <td>Bordeaux Saint-Jean</td>\n",
       "      <td>Paris - Montparnasse - Hall 1 &amp; 2</td>\n",
       "      <td>TGV INOUI</td>\n",
       "      <td>12260</td>\n",
       "      <td>10-03-2023</td>\n",
       "      <td>14:46:00</td>\n",
       "      <td>14:46:00</td>\n",
       "      <td>0</td>\n",
       "      <td></td>\n",
       "      <td>[Angoulême, Paris - Montparnasse - Hall 1 &amp; 2]</td>\n",
       "    </tr>\n",
       "  </tbody>\n",
       "</table>\n",
       "</div>"
      ],
      "text/plain": [
       "                           Provenance                         Destination  \\\n",
       "0                 Bordeaux Saint-Jean                               Agen    \n",
       "1                             Hendaye  Paris - Montparnasse - Hall 1 & 2    \n",
       "2                 Bordeaux Saint-Jean                           Arcachon    \n",
       "6                 Bordeaux Saint-Jean  Paris - Montparnasse - Hall 1 & 2    \n",
       "10                Bordeaux Saint-Jean  Paris - Montparnasse - Hall 1 & 2    \n",
       "16                Bordeaux Saint-Jean  Paris - Montparnasse - Hall 1 & 2    \n",
       "20                Bordeaux Saint-Jean                           Arcachon    \n",
       "26                           Libourne                           Arcachon    \n",
       "27                Bordeaux Saint-Jean                             Sarlat    \n",
       "28                Bordeaux Saint-Jean  Paris - Montparnasse - Hall 1 & 2    \n",
       "29                           Arcachon                           Libourne    \n",
       "30                           Libourne                           Arcachon    \n",
       "32                  Toulouse Matabiau  Paris - Montparnasse - Hall 1 & 2    \n",
       "33                Bordeaux Saint-Jean  Paris - Montparnasse - Hall 1 & 2    \n",
       "34  Paris - Montparnasse - Hall 1 & 2                            Hendaye    \n",
       "35                            Hendaye  Paris - Montparnasse - Hall 1 & 2    \n",
       "36                             Tarbes  Paris - Montparnasse - Hall 1 & 2    \n",
       "37                Bordeaux Saint-Jean                               Agen    \n",
       "38                Bordeaux Saint-Jean  Paris - Montparnasse - Hall 1 & 2    \n",
       "39                Bordeaux Saint-Jean          Marseille - Saint-Charles    \n",
       "40                Bordeaux Saint-Jean  Paris - Montparnasse - Hall 1 & 2    \n",
       "41  Paris - Montparnasse - Hall 1 & 2                  Toulouse Matabiau    \n",
       "42                Bordeaux Saint-Jean                             Nantes    \n",
       "43  Paris - Montparnasse - Hall 1 & 2                            Hendaye    \n",
       "44                Bordeaux Saint-Jean          Marseille - Saint-Charles    \n",
       "45                  Toulouse Matabiau  Paris - Montparnasse - Hall 1 & 2    \n",
       "46                Bordeaux Saint-Jean  Paris - Montparnasse - Hall 1 & 2    \n",
       "\n",
       "         Train  Numéro        Jour Départ (réel) Départ (prévu)  Retard (min)  \\\n",
       "0       TER NA  866831  09-03-2023      15:33:00       15:33:00             0   \n",
       "1    TGV INOUI    8540  09-03-2023      15:46:00       15:46:00             0   \n",
       "2       TER NA  866341  09-03-2023      16:04:00       16:04:00             0   \n",
       "6    TGV INOUI    8488  09-03-2023      16:49:00       16:19:00            30   \n",
       "10   TGV INOUI    8418  09-03-2023      17:08:00       17:08:00             0   \n",
       "16   TGV INOUI    8420  09-03-2023      17:46:00       17:46:00             0   \n",
       "20      TER NA  866351  09-03-2023      18:35:00       18:35:00             0   \n",
       "26      TER NA  866203  10-03-2023      06:35:00       06:35:00             0   \n",
       "27      TER NA  865704  10-03-2023      07:41:00       07:41:00             0   \n",
       "28   TGV INOUI    8404  10-03-2023      07:45:00       07:45:00             0   \n",
       "29      TER NA  866208  10-03-2023      08:02:00       08:02:00             0   \n",
       "30      TER NA  866209  10-03-2023      08:04:00       08:04:00             0   \n",
       "32   TGV INOUI    8502  10-03-2023      08:46:00       08:46:00             0   \n",
       "33       OUIGO    7652  10-03-2023      08:50:00       08:50:00             0   \n",
       "34   TGV INOUI    8531  10-03-2023      09:21:00       09:21:00             0   \n",
       "35   TGV INOUI    8530  10-03-2023      09:46:30       09:46:30             0   \n",
       "36   TGV INOUI    8560  10-03-2023      09:46:30       09:46:30             0   \n",
       "37      TER NA  405759  10-03-2023      10:30:00       10:30:00             0   \n",
       "38       OUIGO    7656  10-03-2023      12:21:00       12:21:00             0   \n",
       "39  Intercités    4661  10-03-2023      12:28:00       12:28:00             0   \n",
       "40   TGV INOUI    8508  10-03-2023      12:46:00       12:46:00             0   \n",
       "41   TGV INOUI    8505  10-03-2023      13:20:00       13:20:00             0   \n",
       "42  Intercités    3856  10-03-2023      13:53:00       13:53:00             0   \n",
       "43   TGV INOUI    8541  10-03-2023      14:21:00       14:21:00             0   \n",
       "44  Intercités    4663  10-03-2023      14:26:00       14:26:00             0   \n",
       "45   TGV INOUI    8512  10-03-2023      14:46:00       14:46:00             0   \n",
       "46   TGV INOUI   12260  10-03-2023      14:46:00       14:46:00             0   \n",
       "\n",
       "                   Cause                                             Arrêts  \n",
       "0                         [Beautiran, Cérons, Langon, La Réole, Marmande...  \n",
       "1                                       [Paris - Montparnasse - Hall 1 & 2]  \n",
       "2                         [Pessac, Pessac Alouette, Gazinet Cestas, Marc...  \n",
       "6   Régulation du trafic  [Libourne, Angoulême, Poitiers, Châtellerault,...  \n",
       "10                           [Massy TGV, Paris - Montparnasse - Hall 1 & 2]  \n",
       "16                                      [Paris - Montparnasse - Hall 1 & 2]  \n",
       "20                        [Pessac, Pessac Alouette, Gazinet Cestas, Marc...  \n",
       "26                        [Pessac, Pessac Alouette, Gazinet Cestas, Marc...  \n",
       "27                        [Cenon, Libourne, Saint-Émilion, Castillon, Vé...  \n",
       "28                           [Massy TGV, Paris - Montparnasse - Hall 1 & 2]  \n",
       "29                        [Cenon, Bassens, La Gorp, Saint-Loubès, Saint-...  \n",
       "30                        [Pessac, Pessac Alouette, Gazinet Cestas, Marc...  \n",
       "32                                      [Paris - Montparnasse - Hall 1 & 2]  \n",
       "33                        [Angoulême, Poitiers, Paris - Montparnasse - H...  \n",
       "34                        [Dax, Bayonne, Biarritz, Saint-Jean-de-Luz - C...  \n",
       "35                                      [Paris - Montparnasse - Hall 1 & 2]  \n",
       "36                                      [Paris - Montparnasse - Hall 1 & 2]  \n",
       "37                        [Langon, La Réole, Marmande, Tonneins, Aiguill...  \n",
       "38                        [Saint-Pierre-des-Corps, Paris - Montparnasse ...  \n",
       "39                        [Agen, Montauban Ville Bourbon, Toulouse Matab...  \n",
       "40                                      [Paris - Montparnasse - Hall 1 & 2]  \n",
       "41                        [Agen, Montauban Ville Bourbon, Toulouse Matab...  \n",
       "42                        [Jonzac, Saintes, Rochefort, La Rochelle, Luço...  \n",
       "43                        [Dax, Bayonne, Biarritz, Saint-Jean-de-Luz - C...  \n",
       "44                        [Agen, Montauban Ville Bourbon, Toulouse Matab...  \n",
       "45                           [Angoulême, Paris - Montparnasse - Hall 1 & 2]  \n",
       "46                           [Angoulême, Paris - Montparnasse - Hall 1 & 2]  "
      ]
     },
     "execution_count": 156,
     "metadata": {},
     "output_type": "execute_result"
    }
   ],
   "source": [
    "df_gare"
   ]
  },
  {
   "attachments": {},
   "cell_type": "markdown",
   "metadata": {},
   "source": [
    "On exporte le dataframe en fichier _CSV_"
   ]
  },
  {
   "cell_type": "code",
   "execution_count": 157,
   "metadata": {},
   "outputs": [],
   "source": [
    "#df_gare.to_csv('Departure.csv', sep=',', index=False, header=True)"
   ]
  }
 ],
 "metadata": {
  "kernelspec": {
   "display_name": "cours",
   "language": "python",
   "name": "python3"
  },
  "language_info": {
   "codemirror_mode": {
    "name": "ipython",
    "version": 3
   },
   "file_extension": ".py",
   "mimetype": "text/x-python",
   "name": "python",
   "nbconvert_exporter": "python",
   "pygments_lexer": "ipython3",
   "version": "3.11.0"
  },
  "orig_nbformat": 4
 },
 "nbformat": 4,
 "nbformat_minor": 2
}
