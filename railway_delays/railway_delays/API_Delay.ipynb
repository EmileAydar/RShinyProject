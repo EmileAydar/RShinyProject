{
 "cells": [
  {
   "attachments": {},
   "cell_type": "markdown",
   "metadata": {},
   "source": [
    "Ce script permet d'afficher tous les trains traversant la France ayant du retard (et uniquement du retard)."
   ]
  },
  {
   "attachments": {},
   "cell_type": "markdown",
   "metadata": {},
   "source": [
    "# Code"
   ]
  },
  {
   "attachments": {},
   "cell_type": "markdown",
   "metadata": {},
   "source": [
    "## Import des Modules"
   ]
  },
  {
   "cell_type": "code",
   "execution_count": 29,
   "metadata": {},
   "outputs": [],
   "source": [
    "import pandas as pd\n",
    "import requests\n",
    "import json\n",
    "import datetime"
   ]
  },
  {
   "attachments": {},
   "cell_type": "markdown",
   "metadata": {},
   "source": [
    "## Obtention des trains ayant eu des perturbations sur leur trajet"
   ]
  },
  {
   "attachments": {},
   "cell_type": "markdown",
   "metadata": {},
   "source": [
    "Mise en varaible du token de connexion à l'API SNCF V1"
   ]
  },
  {
   "cell_type": "code",
   "execution_count": 30,
   "metadata": {},
   "outputs": [],
   "source": [
    "token = 'e7b7fedd-71d0-48c6-8cc7-749e22ba8e80'"
   ]
  },
  {
   "attachments": {},
   "cell_type": "markdown",
   "metadata": {},
   "source": [
    "Requête à l'API SNCF afin de récupérer la liste des trains avec des perturbations d'aujourd'hui\n",
    "\n",
    "L'API ne permettant que de récupérer 1000 résultats à la fois, on réalise une boucle afin de tout récupérer"
   ]
  },
  {
   "cell_type": "code",
   "execution_count": 31,
   "metadata": {},
   "outputs": [],
   "source": [
    "# On récupère la date du jour ou on la saisit manuellement\n",
    "\n",
    "date = datetime.date.today()\n",
    "date = str(date)\n",
    "date = date[:4] + date[5:7] + date[8:10]\n",
    "\n",
    "#date = '20230307'"
   ]
  },
  {
   "cell_type": "code",
   "execution_count": 32,
   "metadata": {},
   "outputs": [],
   "source": [
    "i = 0\n",
    "val = True\n",
    "df = pd.DataFrame()\n",
    "while val:\n",
    "    link = 'https://api.sncf.com/v1/coverage/sncf/disruptions?since=' + date +'T000000&start_page=' + str(i) + '&count=1000&'\n",
    "    req = requests.get(link,auth=(token, ''))\n",
    "    doc = json.loads(req.text)\n",
    "    df = pd.concat([df, pd.DataFrame(doc['disruptions'])], ignore_index=True)\n",
    "    i += 1\n",
    "    if len(doc['disruptions']) != 1000:\n",
    "        val = False"
   ]
  },
  {
   "attachments": {},
   "cell_type": "markdown",
   "metadata": {},
   "source": [
    "## Traitement des retards"
   ]
  },
  {
   "attachments": {},
   "cell_type": "markdown",
   "metadata": {},
   "source": [
    "On  ne garde que les informations sur les perturbations et le jour de ces dernières"
   ]
  },
  {
   "cell_type": "code",
   "execution_count": 33,
   "metadata": {},
   "outputs": [],
   "source": [
    "df_jour = pd.DataFrame(list(df['application_periods']))\n",
    "df_jour = pd.DataFrame(list(df_jour[0]))\n",
    "df_retard = pd.DataFrame(list(df['severity']))\n",
    "df_retard['updated_at'] = df_jour['begin']"
   ]
  },
  {
   "attachments": {},
   "cell_type": "markdown",
   "metadata": {},
   "source": [
    "On ne garde que les trains ayant eu du retard"
   ]
  },
  {
   "cell_type": "code",
   "execution_count": 34,
   "metadata": {},
   "outputs": [],
   "source": [
    "df_retard = df_retard[df_retard['effect'] == 'SIGNIFICANT_DELAYS']\n",
    "df_retard = df_retard[['effect','updated_at']]"
   ]
  },
  {
   "attachments": {},
   "cell_type": "markdown",
   "metadata": {},
   "source": [
    "On réalise une fonction de conversion d'heures afin de calculer le retard"
   ]
  },
  {
   "cell_type": "code",
   "execution_count": 35,
   "metadata": {},
   "outputs": [],
   "source": [
    "def conv_heure(string):\n",
    "    return int(string[0:2]) + int(string[2:4])/60"
   ]
  },
  {
   "attachments": {},
   "cell_type": "markdown",
   "metadata": {},
   "source": [
    "## Obtention d'inforamtions complémentaires sur ce retard"
   ]
  },
  {
   "attachments": {},
   "cell_type": "markdown",
   "metadata": {},
   "source": [
    "On ajoute des informations au retard, ligne par ligne :\n",
    "\n",
    "- Les gares de départ et d'arrivée\n",
    "\n",
    "- Le retard et sa cause\n",
    "\n",
    "- Les heures d'arrivée prévues et réelles du train\n",
    "\n",
    "- L'heure de départ prévue du train"
   ]
  },
  {
   "cell_type": "code",
   "execution_count": 36,
   "metadata": {},
   "outputs": [],
   "source": [
    "gare_d = []\n",
    "gare_a = []\n",
    "cause = []\n",
    "retard = []\n",
    "heure_arr_prevue = []\n",
    "heure_arr_reelle = []\n",
    "heure_depart = []\n",
    "\n",
    "#for i in df_retard.index:\n",
    "for index, row in df_retard.iterrows():\n",
    "    #df_mod = pd.DataFrame(list(df['impacted_objects'][i]))\n",
    "    df_mod = pd.DataFrame(list(df.iloc[index]['impacted_objects']))\n",
    "    df_mod = pd.DataFrame(list(df_mod['impacted_stops'])[0])\n",
    "    df_mod = df_mod[(df_mod['amended_arrival_time'].notnull())]\n",
    "    df_mod = df_mod[(df_mod['base_arrival_time'].notnull())]\n",
    "    \n",
    "    # On calcule le retard et on ajoute une exception si il y a un changement de jour entre les heures d'arrivée prévues et réelles\n",
    "    retard_val = conv_heure(df_mod.iloc[-1]['amended_arrival_time']) - conv_heure(df_mod.iloc[-1]['base_arrival_time'])\n",
    "\n",
    "    if retard_val<0:\n",
    "        retard_val = int(round((retard_val+24)*60,1))\n",
    "    else:\n",
    "        retard_val = int(round(retard_val*60,1))\n",
    "    \n",
    "    df_mod['gare'] = pd.DataFrame(list(df_mod['stop_point']))['name']\n",
    "\n",
    "    # On renvoie \"Retard non expliqué\" si la SNCF ne fournit pas plus d'informations sur le retard\n",
    "    cause_ret = df_mod.iloc[-1]['cause']\n",
    "    if cause_ret == \"\":\n",
    "        cause_ret = \"Retard non expliqué\"\n",
    "\n",
    "    # On ajoute les informations à des listes\n",
    "    gare_d.append(df_mod.iloc[0]['gare'])\n",
    "    gare_a.append(df_mod.iloc[-1]['gare'])\n",
    "    cause.append(cause_ret)\n",
    "    retard.append(retard_val)\n",
    "    heure_arr_prevue.append(df_mod.iloc[-1]['base_arrival_time'])\n",
    "    heure_arr_reelle.append(df_mod.iloc[-1]['amended_arrival_time'])\n",
    "    heure_depart.append(df_mod.iloc[0]['base_departure_time'])\n"
   ]
  },
  {
   "attachments": {},
   "cell_type": "markdown",
   "metadata": {},
   "source": [
    "Création d'une fonction afin d'obtenir le jour du départ"
   ]
  },
  {
   "cell_type": "code",
   "execution_count": 37,
   "metadata": {},
   "outputs": [],
   "source": [
    "def get_day(string):\n",
    "    string = string[:8]\n",
    "    return string[6:8]+'-'+string[4:6]+'-'+string[0:4]"
   ]
  },
  {
   "attachments": {},
   "cell_type": "markdown",
   "metadata": {},
   "source": [
    "On ajoute les informations au dataframe"
   ]
  },
  {
   "cell_type": "code",
   "execution_count": 38,
   "metadata": {},
   "outputs": [],
   "source": [
    "df_retard = df_retard.drop(['effect'], axis=1)\n",
    "\n",
    "df_retard['Gare (départ)'] = gare_d\n",
    "df_retard['Gare (arrivée)'] = gare_a\n",
    "df_retard['updated_at'] = df_retard['updated_at'].apply(get_day)\n",
    "df_retard[\"Arrivée (réelle)\"] = heure_arr_reelle\n",
    "df_retard[\"Arrivée (prévue)\"] = heure_arr_prevue\n",
    "df_retard[\"Départ (prévu)\"] = heure_depart\n",
    "df_retard['Retard (min)'] = retard\n",
    "df_retard['Cause'] = cause\n",
    "\n",
    "df_retard.rename(columns = {'updated_at':'Jour'}, inplace = True)\n"
   ]
  },
  {
   "attachments": {},
   "cell_type": "markdown",
   "metadata": {},
   "source": [
    "On passe les heures au format heure de `datetime`"
   ]
  },
  {
   "cell_type": "code",
   "execution_count": 39,
   "metadata": {},
   "outputs": [],
   "source": [
    "def str_tps(str):\n",
    "    return datetime.datetime.strptime(str, '%H%M%S').time()\n",
    "\n",
    "df_retard[\"Arrivée (réelle)\"] = df_retard[\"Arrivée (réelle)\"].apply(str_tps)\n",
    "df_retard[\"Arrivée (prévue)\"] = df_retard[\"Arrivée (prévue)\"].apply(str_tps)\n",
    "df_retard[\"Départ (prévu)\"] = df_retard[\"Départ (prévu)\"].apply(str_tps)"
   ]
  },
  {
   "attachments": {},
   "cell_type": "markdown",
   "metadata": {},
   "source": [
    "On affiche le dataframe final"
   ]
  },
  {
   "cell_type": "code",
   "execution_count": 40,
   "metadata": {},
   "outputs": [
    {
     "data": {
      "text/html": [
       "<div>\n",
       "<style scoped>\n",
       "    .dataframe tbody tr th:only-of-type {\n",
       "        vertical-align: middle;\n",
       "    }\n",
       "\n",
       "    .dataframe tbody tr th {\n",
       "        vertical-align: top;\n",
       "    }\n",
       "\n",
       "    .dataframe thead th {\n",
       "        text-align: right;\n",
       "    }\n",
       "</style>\n",
       "<table border=\"1\" class=\"dataframe\">\n",
       "  <thead>\n",
       "    <tr style=\"text-align: right;\">\n",
       "      <th></th>\n",
       "      <th>Jour</th>\n",
       "      <th>Gare (départ)</th>\n",
       "      <th>Gare (arrivée)</th>\n",
       "      <th>Arrivée (réelle)</th>\n",
       "      <th>Arrivée (prévue)</th>\n",
       "      <th>Départ (prévu)</th>\n",
       "      <th>Retard (min)</th>\n",
       "      <th>Cause</th>\n",
       "    </tr>\n",
       "  </thead>\n",
       "  <tbody>\n",
       "    <tr>\n",
       "      <th>73</th>\n",
       "      <td>09-03-2023</td>\n",
       "      <td>La Bresse - Place du Champtel</td>\n",
       "      <td>Remiremont</td>\n",
       "      <td>08:07:00</td>\n",
       "      <td>08:02:00</td>\n",
       "      <td>06:59:00</td>\n",
       "      <td>5</td>\n",
       "      <td>Embouteillage</td>\n",
       "    </tr>\n",
       "    <tr>\n",
       "      <th>75</th>\n",
       "      <td>09-03-2023</td>\n",
       "      <td>Frasne</td>\n",
       "      <td>Neuchâtel</td>\n",
       "      <td>21:58:00</td>\n",
       "      <td>21:53:00</td>\n",
       "      <td>20:53:00</td>\n",
       "      <td>5</td>\n",
       "      <td>Prise en charge de clients en correspondance</td>\n",
       "    </tr>\n",
       "    <tr>\n",
       "      <th>166</th>\n",
       "      <td>09-03-2023</td>\n",
       "      <td>Lyon Part Dieu</td>\n",
       "      <td>Paris - Gare de Lyon - Hall 1 &amp; 2</td>\n",
       "      <td>13:39:00</td>\n",
       "      <td>13:34:00</td>\n",
       "      <td>11:34:00</td>\n",
       "      <td>5</td>\n",
       "      <td>Travaux sur les voies</td>\n",
       "    </tr>\n",
       "    <tr>\n",
       "      <th>210</th>\n",
       "      <td>09-03-2023</td>\n",
       "      <td>Sain-Bel</td>\n",
       "      <td>Lyon - Saint-Paul</td>\n",
       "      <td>15:51:00</td>\n",
       "      <td>15:46:00</td>\n",
       "      <td>15:04:00</td>\n",
       "      <td>5</td>\n",
       "      <td>Retard non expliqué</td>\n",
       "    </tr>\n",
       "    <tr>\n",
       "      <th>252</th>\n",
       "      <td>10-03-2023</td>\n",
       "      <td>Paris - Montparnasse - Hall 1 &amp; 2</td>\n",
       "      <td>Quimper</td>\n",
       "      <td>12:43:00</td>\n",
       "      <td>12:38:00</td>\n",
       "      <td>08:40:00</td>\n",
       "      <td>5</td>\n",
       "      <td>Panne d'un aiguillage</td>\n",
       "    </tr>\n",
       "    <tr>\n",
       "      <th>...</th>\n",
       "      <td>...</td>\n",
       "      <td>...</td>\n",
       "      <td>...</td>\n",
       "      <td>...</td>\n",
       "      <td>...</td>\n",
       "      <td>...</td>\n",
       "      <td>...</td>\n",
       "      <td>...</td>\n",
       "    </tr>\n",
       "    <tr>\n",
       "      <th>21013</th>\n",
       "      <td>10-03-2023</td>\n",
       "      <td>Lyon Part Dieu</td>\n",
       "      <td>Annecy</td>\n",
       "      <td>10:12:00</td>\n",
       "      <td>10:07:00</td>\n",
       "      <td>08:08:00</td>\n",
       "      <td>5</td>\n",
       "      <td>Régulation du trafic</td>\n",
       "    </tr>\n",
       "    <tr>\n",
       "      <th>21014</th>\n",
       "      <td>10-03-2023</td>\n",
       "      <td>Poitiers</td>\n",
       "      <td>Limoges-Bénédictins</td>\n",
       "      <td>11:42:30</td>\n",
       "      <td>10:47:30</td>\n",
       "      <td>08:51:00</td>\n",
       "      <td>55</td>\n",
       "      <td>Réutilisation d'un train</td>\n",
       "    </tr>\n",
       "    <tr>\n",
       "      <th>21018</th>\n",
       "      <td>10-03-2023</td>\n",
       "      <td>Limoges-Bénédictins</td>\n",
       "      <td>Montluçon - ville</td>\n",
       "      <td>12:14:30</td>\n",
       "      <td>12:09:30</td>\n",
       "      <td>09:58:00</td>\n",
       "      <td>5</td>\n",
       "      <td>Conditions météorologiques</td>\n",
       "    </tr>\n",
       "    <tr>\n",
       "      <th>21020</th>\n",
       "      <td>10-03-2023</td>\n",
       "      <td>Bellegarde-sur-Valserine Gare</td>\n",
       "      <td>Lyon-Part-Dieu - Gare Routière</td>\n",
       "      <td>11:55:00</td>\n",
       "      <td>11:50:00</td>\n",
       "      <td>10:10:00</td>\n",
       "      <td>5</td>\n",
       "      <td>Embouteillage</td>\n",
       "    </tr>\n",
       "    <tr>\n",
       "      <th>21024</th>\n",
       "      <td>10-03-2023</td>\n",
       "      <td>Bourg-Saint-Maurice</td>\n",
       "      <td>Chambéry - Challes-les-Eaux</td>\n",
       "      <td>12:12:00</td>\n",
       "      <td>12:07:00</td>\n",
       "      <td>10:13:00</td>\n",
       "      <td>5</td>\n",
       "      <td>Difficultés lors de la préparation du train</td>\n",
       "    </tr>\n",
       "  </tbody>\n",
       "</table>\n",
       "<p>470 rows × 8 columns</p>\n",
       "</div>"
      ],
      "text/plain": [
       "             Jour                      Gare (départ)  \\\n",
       "73     09-03-2023      La Bresse - Place du Champtel   \n",
       "75     09-03-2023                             Frasne   \n",
       "166    09-03-2023                     Lyon Part Dieu   \n",
       "210    09-03-2023                           Sain-Bel   \n",
       "252    10-03-2023  Paris - Montparnasse - Hall 1 & 2   \n",
       "...           ...                                ...   \n",
       "21013  10-03-2023                     Lyon Part Dieu   \n",
       "21014  10-03-2023                           Poitiers   \n",
       "21018  10-03-2023                Limoges-Bénédictins   \n",
       "21020  10-03-2023      Bellegarde-sur-Valserine Gare   \n",
       "21024  10-03-2023                Bourg-Saint-Maurice   \n",
       "\n",
       "                          Gare (arrivée) Arrivée (réelle) Arrivée (prévue)  \\\n",
       "73                            Remiremont         08:07:00         08:02:00   \n",
       "75                             Neuchâtel         21:58:00         21:53:00   \n",
       "166    Paris - Gare de Lyon - Hall 1 & 2         13:39:00         13:34:00   \n",
       "210                    Lyon - Saint-Paul         15:51:00         15:46:00   \n",
       "252                              Quimper         12:43:00         12:38:00   \n",
       "...                                  ...              ...              ...   \n",
       "21013                             Annecy         10:12:00         10:07:00   \n",
       "21014                Limoges-Bénédictins         11:42:30         10:47:30   \n",
       "21018                  Montluçon - ville         12:14:30         12:09:30   \n",
       "21020     Lyon-Part-Dieu - Gare Routière         11:55:00         11:50:00   \n",
       "21024        Chambéry - Challes-les-Eaux         12:12:00         12:07:00   \n",
       "\n",
       "      Départ (prévu)  Retard (min)  \\\n",
       "73          06:59:00             5   \n",
       "75          20:53:00             5   \n",
       "166         11:34:00             5   \n",
       "210         15:04:00             5   \n",
       "252         08:40:00             5   \n",
       "...              ...           ...   \n",
       "21013       08:08:00             5   \n",
       "21014       08:51:00            55   \n",
       "21018       09:58:00             5   \n",
       "21020       10:10:00             5   \n",
       "21024       10:13:00             5   \n",
       "\n",
       "                                              Cause  \n",
       "73                                    Embouteillage  \n",
       "75     Prise en charge de clients en correspondance  \n",
       "166                           Travaux sur les voies  \n",
       "210                             Retard non expliqué  \n",
       "252                           Panne d'un aiguillage  \n",
       "...                                             ...  \n",
       "21013                          Régulation du trafic  \n",
       "21014                      Réutilisation d'un train  \n",
       "21018                    Conditions météorologiques  \n",
       "21020                                 Embouteillage  \n",
       "21024   Difficultés lors de la préparation du train  \n",
       "\n",
       "[470 rows x 8 columns]"
      ]
     },
     "execution_count": 40,
     "metadata": {},
     "output_type": "execute_result"
    }
   ],
   "source": [
    "df_retard"
   ]
  },
  {
   "attachments": {},
   "cell_type": "markdown",
   "metadata": {},
   "source": [
    "On exporte le dataframe en fichier _CSV_"
   ]
  },
  {
   "cell_type": "code",
   "execution_count": 41,
   "metadata": {},
   "outputs": [],
   "source": [
    "df_retard.to_csv('Delay.csv', sep=',', index=False, header=True)"
   ]
  }
 ],
 "metadata": {
  "kernelspec": {
   "display_name": "cours",
   "language": "python",
   "name": "python3"
  },
  "language_info": {
   "codemirror_mode": {
    "name": "ipython",
    "version": 3
   },
   "file_extension": ".py",
   "mimetype": "text/x-python",
   "name": "python",
   "nbconvert_exporter": "python",
   "pygments_lexer": "ipython3",
   "version": "3.11.0"
  },
  "orig_nbformat": 4,
  "vscode": {
   "interpreter": {
    "hash": "0a59d7732367dd45dfe4a39cb689f1e83b4581778499ea1daf18f697fa462324"
   }
  }
 },
 "nbformat": 4,
 "nbformat_minor": 2
}
