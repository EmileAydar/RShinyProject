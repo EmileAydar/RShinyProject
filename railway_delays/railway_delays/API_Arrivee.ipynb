{
 "cells": [
  {
   "attachments": {},
   "cell_type": "markdown",
   "metadata": {},
   "source": [
    "Ce script permet d'afficher les trains au départ de n'importe quelle gare française.\n",
    "\n",
    "La liste des noms des gares française se trouve dans le fichier Excel **liste_gares.xlsx**"
   ]
  },
  {
   "attachments": {},
   "cell_type": "markdown",
   "metadata": {},
   "source": [
    "# Code"
   ]
  },
  {
   "attachments": {},
   "cell_type": "markdown",
   "metadata": {},
   "source": [
    "## Import des Modules"
   ]
  },
  {
   "cell_type": "code",
   "execution_count": 74,
   "metadata": {},
   "outputs": [],
   "source": [
    "import pandas as pd\n",
    "import requests\n",
    "import json\n",
    "import datetime"
   ]
  },
  {
   "attachments": {},
   "cell_type": "markdown",
   "metadata": {},
   "source": [
    "## Choix de la gare et du nombre de trains affichés"
   ]
  },
  {
   "cell_type": "code",
   "execution_count": 75,
   "metadata": {},
   "outputs": [],
   "source": [
    "gare = \"Bordeaux Saint-Jean\"\n",
    "\n",
    "# Max 250\n",
    "nb_trains = 50"
   ]
  },
  {
   "attachments": {},
   "cell_type": "markdown",
   "metadata": {},
   "source": [
    "Mise en varaible du token de connexion à l'API SNCF V1"
   ]
  },
  {
   "cell_type": "code",
   "execution_count": 76,
   "metadata": {},
   "outputs": [],
   "source": [
    "token = 'e7b7fedd-71d0-48c6-8cc7-749e22ba8e80'"
   ]
  },
  {
   "attachments": {},
   "cell_type": "markdown",
   "metadata": {},
   "source": [
    "## Création du dictionnaire des gares françaises"
   ]
  },
  {
   "attachments": {},
   "cell_type": "markdown",
   "metadata": {},
   "source": [
    "Requête à l'API SNCF (pas besoin de token ici) afin de récupérer la liste des gares françaises et l'identifiant associé"
   ]
  },
  {
   "cell_type": "code",
   "execution_count": 77,
   "metadata": {},
   "outputs": [
    {
     "name": "stdout",
     "output_type": "stream",
     "text": [
      "Nombre de gares : 3220\n"
     ]
    }
   ],
   "source": [
    "req_gare = requests.get(\"https://ressources.data.sncf.com/api/records/1.0/search/?dataset=referentiel-gares-voyageurs&q=&rows=3220&sort=gare_alias_libelle_noncontraint&facet=departement_libellemin&facet=segmentdrg_libelle&facet=gare_agencegc_libelle&facet=gare_regionsncf_libelle&facet=gare_ug_libelle\")\n",
    "doc_gare = json.loads(req_gare.text)\n",
    "row_gare = len(doc_gare['records'])\n",
    "print(f'Nombre de gares : {row_gare}')"
   ]
  },
  {
   "attachments": {},
   "cell_type": "markdown",
   "metadata": {},
   "source": [
    "On ne garde que le nom de la gare et l'identifiant"
   ]
  },
  {
   "cell_type": "code",
   "execution_count": 78,
   "metadata": {},
   "outputs": [],
   "source": [
    "df_dic = pd.DataFrame(doc_gare['records'])\n",
    "df_dic = pd.DataFrame(list(df_dic['fields']))\n",
    "df_dic = df_dic[['alias_libelle_noncontraint','uic_code']]"
   ]
  },
  {
   "attachments": {},
   "cell_type": "markdown",
   "metadata": {},
   "source": [
    "On retire les `0` inutiles au début de l'identifiant de gare"
   ]
  },
  {
   "cell_type": "code",
   "execution_count": 79,
   "metadata": {},
   "outputs": [],
   "source": [
    "def removezero(string):\n",
    "    return 'SNCF:' + str(string)[2:]\n",
    "\n",
    "df_dic['uic_code'] = df_dic['uic_code'].apply(removezero)"
   ]
  },
  {
   "attachments": {},
   "cell_type": "markdown",
   "metadata": {},
   "source": [
    "On convertit le dataframe en dictionnaire python"
   ]
  },
  {
   "cell_type": "code",
   "execution_count": 80,
   "metadata": {},
   "outputs": [
    {
     "name": "stderr",
     "output_type": "stream",
     "text": [
      "/var/folders/bg/vbvjjnmj0hv9wmb92ngxcq9m0000gn/T/ipykernel_5632/3118890846.py:2: UserWarning: DataFrame columns are not unique, some columns will be omitted.\n",
      "  dic_gare = df_dic.set_index('alias_libelle_noncontraint').T.to_dict('list')\n"
     ]
    }
   ],
   "source": [
    "df_dic.convert_dtypes()\n",
    "dic_gare = df_dic.set_index('alias_libelle_noncontraint').T.to_dict('list')"
   ]
  },
  {
   "attachments": {},
   "cell_type": "markdown",
   "metadata": {},
   "source": [
    "## Obtention des trains à l'arrivée en gare"
   ]
  },
  {
   "attachments": {},
   "cell_type": "markdown",
   "metadata": {},
   "source": [
    "Requête à l'API SNCF afin de récupérer la liste des trains à l'arrivée en gare"
   ]
  },
  {
   "cell_type": "code",
   "execution_count": 81,
   "metadata": {},
   "outputs": [],
   "source": [
    "link = 'https://api.sncf.com/v1/coverage/sncf/stop_areas/stop_area:' + dic_gare[gare][0] + '/arrivals?count=' + str(nb_trains)\n",
    "req = requests.get(link,auth=(token, ''))\n",
    "#print(link)"
   ]
  },
  {
   "cell_type": "code",
   "execution_count": 82,
   "metadata": {},
   "outputs": [
    {
     "name": "stdout",
     "output_type": "stream",
     "text": [
      "Nombre de trains : 48\n"
     ]
    }
   ],
   "source": [
    "doc = json.loads(req.text)\n",
    "row = len(doc['arrivals'])\n",
    "print(f'Nombre de trains : {row}')"
   ]
  },
  {
   "attachments": {},
   "cell_type": "markdown",
   "metadata": {},
   "source": [
    "On découpe le résultat de la requête en 3 dataframes distincts :\n",
    "\n",
    "- **df_gare** qui donne les informations sur la direction du train, son type (TER, TGV, etc.) et son numéro\n",
    "\n",
    "- **df_heure** qui donne des informations sur un éventuel retard du train\n",
    "\n",
    "- **df_id** qui contient l'identifiant du voyage, ce qui nous servira à récupérer d'autres données plus tard"
   ]
  },
  {
   "cell_type": "code",
   "execution_count": 83,
   "metadata": {},
   "outputs": [],
   "source": [
    "df = pd.DataFrame(doc['arrivals'])\n",
    "df_gare = pd.DataFrame(list(df['display_informations']))\n",
    "df_heure = pd.DataFrame(list(df['stop_date_time']))\n",
    "df_id = pd.DataFrame(list(df['links']))\n",
    "df_id = pd.DataFrame(list(df_id[1]))"
   ]
  },
  {
   "attachments": {},
   "cell_type": "markdown",
   "metadata": {},
   "source": [
    "On récupère le jour de départ du train"
   ]
  },
  {
   "cell_type": "code",
   "execution_count": 84,
   "metadata": {},
   "outputs": [],
   "source": [
    "def get_day(string):\n",
    "    string = string[:8]\n",
    "    return string[6:8]+'-'+string[4:6]+'-'+string[0:4]\n",
    "\n",
    "df_heure['jour'] = df_heure['departure_date_time'].apply(get_day)"
   ]
  },
  {
   "attachments": {},
   "cell_type": "markdown",
   "metadata": {},
   "source": [
    "On supprime les RER et les Transiliens"
   ]
  },
  {
   "cell_type": "code",
   "execution_count": 85,
   "metadata": {},
   "outputs": [],
   "source": [
    "supr = df_gare.loc[df_gare['network'] == 'RER'].index\n",
    "df_gare = df_gare.drop(supr)\n",
    "df_heure = df_heure.drop(supr)"
   ]
  },
  {
   "cell_type": "code",
   "execution_count": 86,
   "metadata": {},
   "outputs": [],
   "source": [
    "supr = df_gare.loc[df_gare['network'] == 'TRANSILIEN'].index\n",
    "df_gare = df_gare.drop(supr)\n",
    "df_heure = df_heure.drop(supr)"
   ]
  },
  {
   "attachments": {},
   "cell_type": "markdown",
   "metadata": {},
   "source": [
    "On supprime les trains annulés ou remplacés"
   ]
  },
  {
   "cell_type": "code",
   "execution_count": 87,
   "metadata": {},
   "outputs": [],
   "source": [
    "supr = df_gare.loc[df_heure['base_departure_date_time'].isnull()].index\n",
    "df_gare = df_gare.drop(supr)\n",
    "df_heure = df_heure.drop(supr)"
   ]
  },
  {
   "attachments": {},
   "cell_type": "markdown",
   "metadata": {},
   "source": [
    "On récupère l'heure d'arrivée prévue et réelle du train"
   ]
  },
  {
   "cell_type": "code",
   "execution_count": 88,
   "metadata": {},
   "outputs": [],
   "source": [
    "def del_day(string):\n",
    "    return string[9:]\n",
    "\n",
    "df_heure['arrival_date_time'] = df_heure['arrival_date_time'].apply(del_day)\n",
    "df_heure['base_arrival_date_time'] = df_heure['base_arrival_date_time'].apply(del_day)"
   ]
  },
  {
   "attachments": {},
   "cell_type": "markdown",
   "metadata": {},
   "source": [
    "On calcule le retard du train et on le convertit au format heure de `datetime`"
   ]
  },
  {
   "cell_type": "code",
   "execution_count": 89,
   "metadata": {},
   "outputs": [],
   "source": [
    "def conv_min(string):\n",
    "    return int(string[0:2])*60 + int(string[2:4])\n",
    "\n",
    "df_heure['retard'] = df_heure['arrival_date_time'].apply(conv_min) - df_heure['base_arrival_date_time'].apply(conv_min)"
   ]
  },
  {
   "cell_type": "code",
   "execution_count": 90,
   "metadata": {},
   "outputs": [],
   "source": [
    "def str_tps(str):\n",
    "    return datetime.datetime.strptime(str, '%H%M%S').time()\n",
    "\n",
    "df_heure['heure'] = df_heure['arrival_date_time'].apply(str_tps)\n",
    "df_heure['old_heure'] = df_heure['base_arrival_date_time'].apply(str_tps)"
   ]
  },
  {
   "attachments": {},
   "cell_type": "markdown",
   "metadata": {},
   "source": [
    "On retire le nom de la ville ou se situe la gare pour plus de lisibilité.\n",
    "\n",
    "_Exemple :_ `Paris Gare de Lyon (Paris)` devient `Paris Gare de Lyon`"
   ]
  },
  {
   "cell_type": "code",
   "execution_count": 91,
   "metadata": {},
   "outputs": [],
   "source": [
    "def del_par(string):\n",
    "    index = string.find(\"(\")\n",
    "    return string[:index]\n",
    "\n",
    "df_gare['direction'] = df_gare['direction'].apply(del_par)"
   ]
  },
  {
   "attachments": {},
   "cell_type": "markdown",
   "metadata": {},
   "source": [
    "On renome les colonnes du dataframe **df_gare** et on y ajoute :\n",
    "\n",
    "- Le jour de départ\n",
    "\n",
    "- L'heure d'arrivée réelle\n",
    "\n",
    "- L'heure d'arrivée prévue\n",
    "\n",
    "- Le retard à l'arrivée en minutes du train\n",
    "\n",
    "- L'identifiant du voyage"
   ]
  },
  {
   "cell_type": "code",
   "execution_count": 92,
   "metadata": {},
   "outputs": [],
   "source": [
    "if len(df_gare) != 0:\n",
    "    df_gare = df_gare[['direction','network','trip_short_name']]\n",
    "    df_gare.rename(columns = {'direction':'Destination'}, inplace = True)\n",
    "    df_gare.rename(columns = {'network':'Train'}, inplace = True)\n",
    "    df_gare.rename(columns = {'trip_short_name':'Numéro'}, inplace = True)\n",
    "\n",
    "    df_gare['Jour'] = df_heure['jour']\n",
    "    df_gare['Arrivée (réelle)'] = df_heure['heure']\n",
    "    df_gare['Arrivée (prévue)'] = df_heure['old_heure']\n",
    "    df_gare['Retard (min)'] = df_heure['retard']\n",
    "    df_gare['id'] = df_id['id']"
   ]
  },
  {
   "attachments": {},
   "cell_type": "markdown",
   "metadata": {},
   "source": [
    "## Obtention des arrêts et de la cause de retard du train"
   ]
  },
  {
   "attachments": {},
   "cell_type": "markdown",
   "metadata": {},
   "source": [
    "Création d'une fonction permettant de récupérer uniquement le nom de la gare dans le json et de supprimer les données superflues"
   ]
  },
  {
   "cell_type": "code",
   "execution_count": 93,
   "metadata": {},
   "outputs": [],
   "source": [
    "def get_name(string):\n",
    "    string = string[10:]\n",
    "    index_fin = string.find(\"', 'links'\")\n",
    "    return string[:index_fin]"
   ]
  },
  {
   "attachments": {},
   "cell_type": "markdown",
   "metadata": {},
   "source": [
    "Pour chaque train, on effectue un requête grâce à l'**id** du voyage afin de récupérer les arrêts et l'éventuelle cause du retard de celui-ci"
   ]
  },
  {
   "cell_type": "code",
   "execution_count": 94,
   "metadata": {},
   "outputs": [],
   "source": [
    "provenance = []\n",
    "arrets = []\n",
    "causes = []\n",
    "for index, row in df_gare.iterrows():\n",
    "    id = row['id']\n",
    "    \n",
    "    # Il faut retirer la partie 'RealTime' de l'id pour faire la requête\n",
    "    if 'RealTime' in id:\n",
    "        index_id = id.index(\"RealTime\")\n",
    "        id = id[:index_id-1]\n",
    "    \n",
    "    # On effectue la requête\n",
    "    link_voyage = 'https://api.sncf.com/v1/coverage/sncf/vehicle_journeys/' + id\n",
    "    req_arret = requests.get(link_voyage ,auth=(token, ''))\n",
    "    doc_voyage = json.loads(req_arret.text)\n",
    "\n",
    "    # On récupère la liste des arrêts du train\n",
    "    df_arret = pd.DataFrame(doc_voyage['vehicle_journeys'])\n",
    "    df_arret = pd.DataFrame(list(df_arret['stop_times']))\n",
    "    df_arret = df_arret.T\n",
    "    df_arret = pd.DataFrame(list(df_arret[0]))\n",
    "    df_arret['stop_point'] = df_arret['stop_point'].astype('str').apply(get_name)\n",
    "    provenance.append(df_arret['stop_point'][0])\n",
    "\n",
    "    # Si le train est en retard, on récupère la cause du retard\n",
    "    # On renvoie \"Retard non expliqué\" si la SNCF ne fournit pas plus d'informations sur le retard\n",
    "    if row['Retard (min)'] != 0:\n",
    "        df_retard = pd.DataFrame(doc_voyage['disruptions'])\n",
    "        if 'messages' in df_retard:\n",
    "            df_retard = pd.DataFrame(list(df_retard['messages'][0]))\n",
    "            causes.append(df_retard.iloc[0]['text'])\n",
    "        else:\n",
    "            causes.append(\"Retard non expliqué\")\n",
    "    else:\n",
    "        causes.append(\"\")\n",
    "\n",
    "    # On ajoute tous les arrêts du train\n",
    "    liste_arrets = list(df_arret['stop_point'])\n",
    "    arrets.append(liste_arrets)"
   ]
  },
  {
   "attachments": {},
   "cell_type": "markdown",
   "metadata": {},
   "source": [
    "On ajoute la provenance du train, la cause du retard ainsi que les arrêts au dataframe **df_gare**.\n",
    "\n",
    "On retire aussi l'id du voyage qui ne sert plus à rien"
   ]
  },
  {
   "cell_type": "code",
   "execution_count": 95,
   "metadata": {},
   "outputs": [],
   "source": [
    "df_gare['Cause'] = causes\n",
    "df_gare['Arrêts'] = arrets\n",
    "df_gare.insert(0, 'Provenance', provenance)\n",
    "if len(df_gare) != 0:\n",
    "    df_gare = df_gare.drop(['id'], axis=1)"
   ]
  },
  {
   "attachments": {},
   "cell_type": "markdown",
   "metadata": {},
   "source": [
    "On affiche le dataframe final"
   ]
  },
  {
   "cell_type": "code",
   "execution_count": 96,
   "metadata": {},
   "outputs": [
    {
     "data": {
      "text/html": [
       "<div>\n",
       "<style scoped>\n",
       "    .dataframe tbody tr th:only-of-type {\n",
       "        vertical-align: middle;\n",
       "    }\n",
       "\n",
       "    .dataframe tbody tr th {\n",
       "        vertical-align: top;\n",
       "    }\n",
       "\n",
       "    .dataframe thead th {\n",
       "        text-align: right;\n",
       "    }\n",
       "</style>\n",
       "<table border=\"1\" class=\"dataframe\">\n",
       "  <thead>\n",
       "    <tr style=\"text-align: right;\">\n",
       "      <th></th>\n",
       "      <th>Provenance</th>\n",
       "      <th>Destination</th>\n",
       "      <th>Train</th>\n",
       "      <th>Numéro</th>\n",
       "      <th>Jour</th>\n",
       "      <th>Arrivée (réelle)</th>\n",
       "      <th>Arrivée (prévue)</th>\n",
       "      <th>Retard (min)</th>\n",
       "      <th>Cause</th>\n",
       "      <th>Arrêts</th>\n",
       "    </tr>\n",
       "  </thead>\n",
       "  <tbody>\n",
       "    <tr>\n",
       "      <th>0</th>\n",
       "      <td>Hendaye</td>\n",
       "      <td>Paris - Montparnasse - Hall 1 &amp; 2</td>\n",
       "      <td>TGV INOUI</td>\n",
       "      <td>8540</td>\n",
       "      <td>09-03-2023</td>\n",
       "      <td>15:40:00</td>\n",
       "      <td>15:40:00</td>\n",
       "      <td>0</td>\n",
       "      <td></td>\n",
       "      <td>[Hendaye, Saint-Jean-de-Luz - Ciboure, Biarrit...</td>\n",
       "    </tr>\n",
       "    <tr>\n",
       "      <th>1</th>\n",
       "      <td>Nantes</td>\n",
       "      <td>Bordeaux Saint-Jean</td>\n",
       "      <td>Intercités</td>\n",
       "      <td>3833</td>\n",
       "      <td>09-03-2023</td>\n",
       "      <td>16:07:00</td>\n",
       "      <td>16:07:00</td>\n",
       "      <td>0</td>\n",
       "      <td></td>\n",
       "      <td>[Nantes, La Roche-sur-Yon, Luçon, La Rochelle,...</td>\n",
       "    </tr>\n",
       "    <tr>\n",
       "      <th>2</th>\n",
       "      <td>Paris - Montparnasse - Hall 1 &amp; 2</td>\n",
       "      <td>Bordeaux Saint-Jean</td>\n",
       "      <td>OUIGO</td>\n",
       "      <td>7653</td>\n",
       "      <td>09-03-2023</td>\n",
       "      <td>16:09:00</td>\n",
       "      <td>16:09:00</td>\n",
       "      <td>0</td>\n",
       "      <td></td>\n",
       "      <td>[Paris - Montparnasse - Hall 1 &amp; 2, Poitiers, ...</td>\n",
       "    </tr>\n",
       "    <tr>\n",
       "      <th>3</th>\n",
       "      <td>Paris - Montparnasse - Hall 1 &amp; 2</td>\n",
       "      <td>Tarbes</td>\n",
       "      <td>TGV INOUI</td>\n",
       "      <td>8574</td>\n",
       "      <td>09-03-2023</td>\n",
       "      <td>16:14:00</td>\n",
       "      <td>16:14:00</td>\n",
       "      <td>0</td>\n",
       "      <td></td>\n",
       "      <td>[Paris - Montparnasse - Hall 1 &amp; 2, Massy TGV,...</td>\n",
       "    </tr>\n",
       "    <tr>\n",
       "      <th>4</th>\n",
       "      <td>Paris - Montparnasse - Hall 1 &amp; 2</td>\n",
       "      <td>Bordeaux Saint-Jean</td>\n",
       "      <td>TGV INOUI</td>\n",
       "      <td>12265</td>\n",
       "      <td>09-03-2023</td>\n",
       "      <td>16:14:00</td>\n",
       "      <td>16:14:00</td>\n",
       "      <td>0</td>\n",
       "      <td></td>\n",
       "      <td>[Paris - Montparnasse - Hall 1 &amp; 2, Massy TGV,...</td>\n",
       "    </tr>\n",
       "    <tr>\n",
       "      <th>5</th>\n",
       "      <td>Paris - Montparnasse - Hall 1 &amp; 2</td>\n",
       "      <td>Toulouse Matabiau</td>\n",
       "      <td>TGV INOUI</td>\n",
       "      <td>8509</td>\n",
       "      <td>09-03-2023</td>\n",
       "      <td>17:15:00</td>\n",
       "      <td>17:15:00</td>\n",
       "      <td>0</td>\n",
       "      <td></td>\n",
       "      <td>[Paris - Montparnasse - Hall 1 &amp; 2, Bordeaux S...</td>\n",
       "    </tr>\n",
       "    <tr>\n",
       "      <th>6</th>\n",
       "      <td>Arcachon</td>\n",
       "      <td>Libourne</td>\n",
       "      <td>TER NA</td>\n",
       "      <td>866246</td>\n",
       "      <td>09-03-2023</td>\n",
       "      <td>17:25:00</td>\n",
       "      <td>17:25:00</td>\n",
       "      <td>0</td>\n",
       "      <td></td>\n",
       "      <td>[Arcachon, La Teste, La Hume, Gujan-Mestras, L...</td>\n",
       "    </tr>\n",
       "    <tr>\n",
       "      <th>7</th>\n",
       "      <td>Paris - Montparnasse - Hall 1 &amp; 2</td>\n",
       "      <td>Bordeaux Saint-Jean</td>\n",
       "      <td>TGV INOUI</td>\n",
       "      <td>8485</td>\n",
       "      <td>09-03-2023</td>\n",
       "      <td>17:37:00</td>\n",
       "      <td>17:37:00</td>\n",
       "      <td>0</td>\n",
       "      <td></td>\n",
       "      <td>[Paris - Montparnasse - Hall 1 &amp; 2, Saint-Pier...</td>\n",
       "    </tr>\n",
       "    <tr>\n",
       "      <th>8</th>\n",
       "      <td>Marseille - Saint-Charles</td>\n",
       "      <td>Bordeaux Saint-Jean</td>\n",
       "      <td>Intercités</td>\n",
       "      <td>4760</td>\n",
       "      <td>09-03-2023</td>\n",
       "      <td>17:38:00</td>\n",
       "      <td>17:33:00</td>\n",
       "      <td>5</td>\n",
       "      <td>Prise en charge de clients en correspondance</td>\n",
       "      <td>[Marseille - Saint-Charles, Arles, Nîmes Centr...</td>\n",
       "    </tr>\n",
       "    <tr>\n",
       "      <th>9</th>\n",
       "      <td>Hendaye</td>\n",
       "      <td>Bordeaux Saint-Jean</td>\n",
       "      <td>TER NA</td>\n",
       "      <td>866474</td>\n",
       "      <td>09-03-2023</td>\n",
       "      <td>17:41:00</td>\n",
       "      <td>17:41:00</td>\n",
       "      <td>0</td>\n",
       "      <td></td>\n",
       "      <td>[Hendaye, Les Deux Jumeaux, Saint-Jean-de-Luz ...</td>\n",
       "    </tr>\n",
       "    <tr>\n",
       "      <th>10</th>\n",
       "      <td>Arcachon</td>\n",
       "      <td>Bordeaux Saint-Jean</td>\n",
       "      <td>TER NA</td>\n",
       "      <td>866350</td>\n",
       "      <td>09-03-2023</td>\n",
       "      <td>18:25:00</td>\n",
       "      <td>18:25:00</td>\n",
       "      <td>0</td>\n",
       "      <td></td>\n",
       "      <td>[Arcachon, La Teste, La Hume, Gujan-Mestras, L...</td>\n",
       "    </tr>\n",
       "    <tr>\n",
       "      <th>11</th>\n",
       "      <td>Paris - Montparnasse - Hall 1 &amp; 2</td>\n",
       "      <td>Bordeaux Saint-Jean</td>\n",
       "      <td>TGV INOUI</td>\n",
       "      <td>8447</td>\n",
       "      <td>09-03-2023</td>\n",
       "      <td>18:44:00</td>\n",
       "      <td>18:44:00</td>\n",
       "      <td>0</td>\n",
       "      <td></td>\n",
       "      <td>[Paris - Montparnasse - Hall 1 &amp; 2, Poitiers, ...</td>\n",
       "    </tr>\n",
       "    <tr>\n",
       "      <th>21</th>\n",
       "      <td>Arcachon</td>\n",
       "      <td>Libourne</td>\n",
       "      <td>TER NA</td>\n",
       "      <td>866204</td>\n",
       "      <td>10-03-2023</td>\n",
       "      <td>06:56:00</td>\n",
       "      <td>06:56:00</td>\n",
       "      <td>0</td>\n",
       "      <td></td>\n",
       "      <td>[Arcachon, La Teste, La Hume, Gujan-Mestras, L...</td>\n",
       "    </tr>\n",
       "    <tr>\n",
       "      <th>28</th>\n",
       "      <td>Sarlat</td>\n",
       "      <td>Bordeaux Saint-Jean</td>\n",
       "      <td>TER NA</td>\n",
       "      <td>865740</td>\n",
       "      <td>10-03-2023</td>\n",
       "      <td>08:44:00</td>\n",
       "      <td>08:44:00</td>\n",
       "      <td>0</td>\n",
       "      <td></td>\n",
       "      <td>[Sarlat, Saint-Cyprien, Siorac-en-Périgord, Le...</td>\n",
       "    </tr>\n",
       "    <tr>\n",
       "      <th>30</th>\n",
       "      <td>Paris - Montparnasse - Hall 1 &amp; 2</td>\n",
       "      <td>Bordeaux Saint-Jean</td>\n",
       "      <td>TGV INOUI</td>\n",
       "      <td>8431</td>\n",
       "      <td>10-03-2023</td>\n",
       "      <td>09:02:00</td>\n",
       "      <td>09:02:00</td>\n",
       "      <td>0</td>\n",
       "      <td></td>\n",
       "      <td>[Paris - Montparnasse - Hall 1 &amp; 2, Saint-Pier...</td>\n",
       "    </tr>\n",
       "    <tr>\n",
       "      <th>31</th>\n",
       "      <td>Paris - Montparnasse - Hall 1 &amp; 2</td>\n",
       "      <td>Bordeaux Saint-Jean</td>\n",
       "      <td>TGV INOUI</td>\n",
       "      <td>12251</td>\n",
       "      <td>10-03-2023</td>\n",
       "      <td>09:15:00</td>\n",
       "      <td>09:15:00</td>\n",
       "      <td>0</td>\n",
       "      <td></td>\n",
       "      <td>[Paris - Montparnasse - Hall 1 &amp; 2, Bordeaux S...</td>\n",
       "    </tr>\n",
       "    <tr>\n",
       "      <th>32</th>\n",
       "      <td>Paris - Montparnasse - Hall 1 &amp; 2</td>\n",
       "      <td>Hendaye</td>\n",
       "      <td>TGV INOUI</td>\n",
       "      <td>8531</td>\n",
       "      <td>10-03-2023</td>\n",
       "      <td>09:15:00</td>\n",
       "      <td>09:15:00</td>\n",
       "      <td>0</td>\n",
       "      <td></td>\n",
       "      <td>[Paris - Montparnasse - Hall 1 &amp; 2, Bordeaux S...</td>\n",
       "    </tr>\n",
       "    <tr>\n",
       "      <th>40</th>\n",
       "      <td>Périgueux</td>\n",
       "      <td>Bordeaux Saint-Jean</td>\n",
       "      <td>TER NA</td>\n",
       "      <td>865553</td>\n",
       "      <td>10-03-2023</td>\n",
       "      <td>10:47:00</td>\n",
       "      <td>10:47:00</td>\n",
       "      <td>0</td>\n",
       "      <td></td>\n",
       "      <td>[Périgueux, Libourne, Cenon, Bordeaux Saint-Jean]</td>\n",
       "    </tr>\n",
       "    <tr>\n",
       "      <th>41</th>\n",
       "      <td>Libourne</td>\n",
       "      <td>Biganos Facture</td>\n",
       "      <td>TER NA</td>\n",
       "      <td>866225</td>\n",
       "      <td>10-03-2023</td>\n",
       "      <td>10:58:00</td>\n",
       "      <td>10:58:00</td>\n",
       "      <td>0</td>\n",
       "      <td></td>\n",
       "      <td>[Libourne, Vayres, Saint-Sulpice - Izon, Saint...</td>\n",
       "    </tr>\n",
       "    <tr>\n",
       "      <th>42</th>\n",
       "      <td>Paris - Montparnasse - Hall 1 &amp; 2</td>\n",
       "      <td>Bordeaux Saint-Jean</td>\n",
       "      <td>OUIGO</td>\n",
       "      <td>7671</td>\n",
       "      <td>10-03-2023</td>\n",
       "      <td>11:14:00</td>\n",
       "      <td>11:14:00</td>\n",
       "      <td>0</td>\n",
       "      <td></td>\n",
       "      <td>[Paris - Montparnasse - Hall 1 &amp; 2, Bordeaux S...</td>\n",
       "    </tr>\n",
       "    <tr>\n",
       "      <th>43</th>\n",
       "      <td>Paris - Montparnasse - Hall 1 &amp; 2</td>\n",
       "      <td>Bordeaux Saint-Jean</td>\n",
       "      <td>TGV INOUI</td>\n",
       "      <td>8437</td>\n",
       "      <td>10-03-2023</td>\n",
       "      <td>13:02:00</td>\n",
       "      <td>13:02:00</td>\n",
       "      <td>0</td>\n",
       "      <td></td>\n",
       "      <td>[Paris - Montparnasse - Hall 1 &amp; 2, Saint-Pier...</td>\n",
       "    </tr>\n",
       "    <tr>\n",
       "      <th>44</th>\n",
       "      <td>Paris - Montparnasse - Hall 1 &amp; 2</td>\n",
       "      <td>Toulouse Matabiau</td>\n",
       "      <td>TGV INOUI</td>\n",
       "      <td>8505</td>\n",
       "      <td>10-03-2023</td>\n",
       "      <td>13:14:00</td>\n",
       "      <td>13:14:00</td>\n",
       "      <td>0</td>\n",
       "      <td></td>\n",
       "      <td>[Paris - Montparnasse - Hall 1 &amp; 2, Bordeaux S...</td>\n",
       "    </tr>\n",
       "    <tr>\n",
       "      <th>45</th>\n",
       "      <td>Paris - Montparnasse - Hall 1 &amp; 2</td>\n",
       "      <td>Hendaye</td>\n",
       "      <td>TGV INOUI</td>\n",
       "      <td>8541</td>\n",
       "      <td>10-03-2023</td>\n",
       "      <td>14:15:00</td>\n",
       "      <td>14:15:00</td>\n",
       "      <td>0</td>\n",
       "      <td></td>\n",
       "      <td>[Paris - Montparnasse - Hall 1 &amp; 2, Bordeaux S...</td>\n",
       "    </tr>\n",
       "    <tr>\n",
       "      <th>46</th>\n",
       "      <td>Paris - Montparnasse - Hall 1 &amp; 2</td>\n",
       "      <td>Bordeaux Saint-Jean</td>\n",
       "      <td>TGV INOUI</td>\n",
       "      <td>12259</td>\n",
       "      <td>10-03-2023</td>\n",
       "      <td>14:15:00</td>\n",
       "      <td>14:15:00</td>\n",
       "      <td>0</td>\n",
       "      <td></td>\n",
       "      <td>[Paris - Montparnasse - Hall 1 &amp; 2, Bordeaux S...</td>\n",
       "    </tr>\n",
       "    <tr>\n",
       "      <th>47</th>\n",
       "      <td>Toulouse Matabiau</td>\n",
       "      <td>Paris - Montparnasse - Hall 1 &amp; 2</td>\n",
       "      <td>TGV INOUI</td>\n",
       "      <td>8512</td>\n",
       "      <td>10-03-2023</td>\n",
       "      <td>14:40:00</td>\n",
       "      <td>14:40:00</td>\n",
       "      <td>0</td>\n",
       "      <td></td>\n",
       "      <td>[Toulouse Matabiau, Agen, Bordeaux Saint-Jean,...</td>\n",
       "    </tr>\n",
       "  </tbody>\n",
       "</table>\n",
       "</div>"
      ],
      "text/plain": [
       "                           Provenance                         Destination  \\\n",
       "0                             Hendaye  Paris - Montparnasse - Hall 1 & 2    \n",
       "1                              Nantes                Bordeaux Saint-Jean    \n",
       "2   Paris - Montparnasse - Hall 1 & 2                Bordeaux Saint-Jean    \n",
       "3   Paris - Montparnasse - Hall 1 & 2                             Tarbes    \n",
       "4   Paris - Montparnasse - Hall 1 & 2                Bordeaux Saint-Jean    \n",
       "5   Paris - Montparnasse - Hall 1 & 2                  Toulouse Matabiau    \n",
       "6                            Arcachon                           Libourne    \n",
       "7   Paris - Montparnasse - Hall 1 & 2                Bordeaux Saint-Jean    \n",
       "8           Marseille - Saint-Charles                Bordeaux Saint-Jean    \n",
       "9                             Hendaye                Bordeaux Saint-Jean    \n",
       "10                           Arcachon                Bordeaux Saint-Jean    \n",
       "11  Paris - Montparnasse - Hall 1 & 2                Bordeaux Saint-Jean    \n",
       "21                           Arcachon                           Libourne    \n",
       "28                             Sarlat                Bordeaux Saint-Jean    \n",
       "30  Paris - Montparnasse - Hall 1 & 2                Bordeaux Saint-Jean    \n",
       "31  Paris - Montparnasse - Hall 1 & 2                Bordeaux Saint-Jean    \n",
       "32  Paris - Montparnasse - Hall 1 & 2                            Hendaye    \n",
       "40                          Périgueux                Bordeaux Saint-Jean    \n",
       "41                           Libourne                    Biganos Facture    \n",
       "42  Paris - Montparnasse - Hall 1 & 2                Bordeaux Saint-Jean    \n",
       "43  Paris - Montparnasse - Hall 1 & 2                Bordeaux Saint-Jean    \n",
       "44  Paris - Montparnasse - Hall 1 & 2                  Toulouse Matabiau    \n",
       "45  Paris - Montparnasse - Hall 1 & 2                            Hendaye    \n",
       "46  Paris - Montparnasse - Hall 1 & 2                Bordeaux Saint-Jean    \n",
       "47                  Toulouse Matabiau  Paris - Montparnasse - Hall 1 & 2    \n",
       "\n",
       "         Train  Numéro        Jour Arrivée (réelle) Arrivée (prévue)  \\\n",
       "0    TGV INOUI    8540  09-03-2023         15:40:00         15:40:00   \n",
       "1   Intercités    3833  09-03-2023         16:07:00         16:07:00   \n",
       "2        OUIGO    7653  09-03-2023         16:09:00         16:09:00   \n",
       "3    TGV INOUI    8574  09-03-2023         16:14:00         16:14:00   \n",
       "4    TGV INOUI   12265  09-03-2023         16:14:00         16:14:00   \n",
       "5    TGV INOUI    8509  09-03-2023         17:15:00         17:15:00   \n",
       "6       TER NA  866246  09-03-2023         17:25:00         17:25:00   \n",
       "7    TGV INOUI    8485  09-03-2023         17:37:00         17:37:00   \n",
       "8   Intercités    4760  09-03-2023         17:38:00         17:33:00   \n",
       "9       TER NA  866474  09-03-2023         17:41:00         17:41:00   \n",
       "10      TER NA  866350  09-03-2023         18:25:00         18:25:00   \n",
       "11   TGV INOUI    8447  09-03-2023         18:44:00         18:44:00   \n",
       "21      TER NA  866204  10-03-2023         06:56:00         06:56:00   \n",
       "28      TER NA  865740  10-03-2023         08:44:00         08:44:00   \n",
       "30   TGV INOUI    8431  10-03-2023         09:02:00         09:02:00   \n",
       "31   TGV INOUI   12251  10-03-2023         09:15:00         09:15:00   \n",
       "32   TGV INOUI    8531  10-03-2023         09:15:00         09:15:00   \n",
       "40      TER NA  865553  10-03-2023         10:47:00         10:47:00   \n",
       "41      TER NA  866225  10-03-2023         10:58:00         10:58:00   \n",
       "42       OUIGO    7671  10-03-2023         11:14:00         11:14:00   \n",
       "43   TGV INOUI    8437  10-03-2023         13:02:00         13:02:00   \n",
       "44   TGV INOUI    8505  10-03-2023         13:14:00         13:14:00   \n",
       "45   TGV INOUI    8541  10-03-2023         14:15:00         14:15:00   \n",
       "46   TGV INOUI   12259  10-03-2023         14:15:00         14:15:00   \n",
       "47   TGV INOUI    8512  10-03-2023         14:40:00         14:40:00   \n",
       "\n",
       "    Retard (min)                                         Cause  \\\n",
       "0              0                                                 \n",
       "1              0                                                 \n",
       "2              0                                                 \n",
       "3              0                                                 \n",
       "4              0                                                 \n",
       "5              0                                                 \n",
       "6              0                                                 \n",
       "7              0                                                 \n",
       "8              5  Prise en charge de clients en correspondance   \n",
       "9              0                                                 \n",
       "10             0                                                 \n",
       "11             0                                                 \n",
       "21             0                                                 \n",
       "28             0                                                 \n",
       "30             0                                                 \n",
       "31             0                                                 \n",
       "32             0                                                 \n",
       "40             0                                                 \n",
       "41             0                                                 \n",
       "42             0                                                 \n",
       "43             0                                                 \n",
       "44             0                                                 \n",
       "45             0                                                 \n",
       "46             0                                                 \n",
       "47             0                                                 \n",
       "\n",
       "                                               Arrêts  \n",
       "0   [Hendaye, Saint-Jean-de-Luz - Ciboure, Biarrit...  \n",
       "1   [Nantes, La Roche-sur-Yon, Luçon, La Rochelle,...  \n",
       "2   [Paris - Montparnasse - Hall 1 & 2, Poitiers, ...  \n",
       "3   [Paris - Montparnasse - Hall 1 & 2, Massy TGV,...  \n",
       "4   [Paris - Montparnasse - Hall 1 & 2, Massy TGV,...  \n",
       "5   [Paris - Montparnasse - Hall 1 & 2, Bordeaux S...  \n",
       "6   [Arcachon, La Teste, La Hume, Gujan-Mestras, L...  \n",
       "7   [Paris - Montparnasse - Hall 1 & 2, Saint-Pier...  \n",
       "8   [Marseille - Saint-Charles, Arles, Nîmes Centr...  \n",
       "9   [Hendaye, Les Deux Jumeaux, Saint-Jean-de-Luz ...  \n",
       "10  [Arcachon, La Teste, La Hume, Gujan-Mestras, L...  \n",
       "11  [Paris - Montparnasse - Hall 1 & 2, Poitiers, ...  \n",
       "21  [Arcachon, La Teste, La Hume, Gujan-Mestras, L...  \n",
       "28  [Sarlat, Saint-Cyprien, Siorac-en-Périgord, Le...  \n",
       "30  [Paris - Montparnasse - Hall 1 & 2, Saint-Pier...  \n",
       "31  [Paris - Montparnasse - Hall 1 & 2, Bordeaux S...  \n",
       "32  [Paris - Montparnasse - Hall 1 & 2, Bordeaux S...  \n",
       "40  [Périgueux, Libourne, Cenon, Bordeaux Saint-Jean]  \n",
       "41  [Libourne, Vayres, Saint-Sulpice - Izon, Saint...  \n",
       "42  [Paris - Montparnasse - Hall 1 & 2, Bordeaux S...  \n",
       "43  [Paris - Montparnasse - Hall 1 & 2, Saint-Pier...  \n",
       "44  [Paris - Montparnasse - Hall 1 & 2, Bordeaux S...  \n",
       "45  [Paris - Montparnasse - Hall 1 & 2, Bordeaux S...  \n",
       "46  [Paris - Montparnasse - Hall 1 & 2, Bordeaux S...  \n",
       "47  [Toulouse Matabiau, Agen, Bordeaux Saint-Jean,...  "
      ]
     },
     "execution_count": 96,
     "metadata": {},
     "output_type": "execute_result"
    }
   ],
   "source": [
    "df_gare"
   ]
  },
  {
   "attachments": {},
   "cell_type": "markdown",
   "metadata": {},
   "source": [
    "On exporte le dataframe en fichier _CSV_"
   ]
  },
  {
   "cell_type": "code",
   "execution_count": 97,
   "metadata": {},
   "outputs": [],
   "source": [
    "#df_gare.to_csv('Arrival.csv', sep=',', index=False, header=True)"
   ]
  }
 ],
 "metadata": {
  "kernelspec": {
   "display_name": "cours",
   "language": "python",
   "name": "python3"
  },
  "language_info": {
   "codemirror_mode": {
    "name": "ipython",
    "version": 3
   },
   "file_extension": ".py",
   "mimetype": "text/x-python",
   "name": "python",
   "nbconvert_exporter": "python",
   "pygments_lexer": "ipython3",
   "version": "3.11.0"
  },
  "orig_nbformat": 4
 },
 "nbformat": 4,
 "nbformat_minor": 2
}
